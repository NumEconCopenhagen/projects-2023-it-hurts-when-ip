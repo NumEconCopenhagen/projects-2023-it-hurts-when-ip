{
 "cells": [
  {
   "attachments": {},
   "cell_type": "markdown",
   "metadata": {},
   "source": [
    "Setup packages and read data"
   ]
  },
  {
   "cell_type": "code",
   "execution_count": 1,
   "metadata": {},
   "outputs": [],
   "source": [
    "import pandas as pd"
   ]
  },
  {
   "cell_type": "code",
   "execution_count": 5,
   "metadata": {},
   "outputs": [
    {
     "data": {
      "text/html": [
       "<div>\n",
       "<style scoped>\n",
       "    .dataframe tbody tr th:only-of-type {\n",
       "        vertical-align: middle;\n",
       "    }\n",
       "\n",
       "    .dataframe tbody tr th {\n",
       "        vertical-align: top;\n",
       "    }\n",
       "\n",
       "    .dataframe thead th {\n",
       "        text-align: right;\n",
       "    }\n",
       "</style>\n",
       "<table border=\"1\" class=\"dataframe\">\n",
       "  <thead>\n",
       "    <tr style=\"text-align: right;\">\n",
       "      <th></th>\n",
       "      <th>country</th>\n",
       "      <th>country_code</th>\n",
       "      <th>ETS information</th>\n",
       "      <th>main activity sector name</th>\n",
       "      <th>unit</th>\n",
       "      <th>value</th>\n",
       "      <th>year</th>\n",
       "    </tr>\n",
       "  </thead>\n",
       "  <tbody>\n",
       "    <tr>\n",
       "      <th>0</th>\n",
       "      <td>Austria</td>\n",
       "      <td>AT</td>\n",
       "      <td>1.1 Freely allocated allowances</td>\n",
       "      <td>32 Manufacture of ceramics</td>\n",
       "      <td>tonne of CO2 equ.</td>\n",
       "      <td>498797.0</td>\n",
       "      <td>2005</td>\n",
       "    </tr>\n",
       "    <tr>\n",
       "      <th>1</th>\n",
       "      <td>Austria</td>\n",
       "      <td>AT</td>\n",
       "      <td>1.1 Freely allocated allowances</td>\n",
       "      <td>32 Manufacture of ceramics</td>\n",
       "      <td>tonne of CO2 equ.</td>\n",
       "      <td>383157.0</td>\n",
       "      <td>2013</td>\n",
       "    </tr>\n",
       "    <tr>\n",
       "      <th>2</th>\n",
       "      <td>Austria</td>\n",
       "      <td>AT</td>\n",
       "      <td>1.1 Freely allocated allowances</td>\n",
       "      <td>32 Manufacture of ceramics</td>\n",
       "      <td>tonne of CO2 equ.</td>\n",
       "      <td>351210.0</td>\n",
       "      <td>2017</td>\n",
       "    </tr>\n",
       "    <tr>\n",
       "      <th>3</th>\n",
       "      <td>Austria</td>\n",
       "      <td>AT</td>\n",
       "      <td>1.1 Freely allocated allowances</td>\n",
       "      <td>32 Manufacture of ceramics</td>\n",
       "      <td>tonne of CO2 equ.</td>\n",
       "      <td>335835.0</td>\n",
       "      <td>2018</td>\n",
       "    </tr>\n",
       "    <tr>\n",
       "      <th>4</th>\n",
       "      <td>Austria</td>\n",
       "      <td>AT</td>\n",
       "      <td>1.1 Freely allocated allowances</td>\n",
       "      <td>32 Manufacture of ceramics</td>\n",
       "      <td>tonne of CO2 equ.</td>\n",
       "      <td>299741.0</td>\n",
       "      <td>2021</td>\n",
       "    </tr>\n",
       "  </tbody>\n",
       "</table>\n",
       "</div>"
      ],
      "text/plain": [
       "   country country_code                  ETS information  \\\n",
       "0  Austria           AT  1.1 Freely allocated allowances   \n",
       "1  Austria           AT  1.1 Freely allocated allowances   \n",
       "2  Austria           AT  1.1 Freely allocated allowances   \n",
       "3  Austria           AT  1.1 Freely allocated allowances   \n",
       "4  Austria           AT  1.1 Freely allocated allowances   \n",
       "\n",
       "    main activity sector name               unit     value  year  \n",
       "0  32 Manufacture of ceramics  tonne of CO2 equ.  498797.0  2005  \n",
       "1  32 Manufacture of ceramics  tonne of CO2 equ.  383157.0  2013  \n",
       "2  32 Manufacture of ceramics  tonne of CO2 equ.  351210.0  2017  \n",
       "3  32 Manufacture of ceramics  tonne of CO2 equ.  335835.0  2018  \n",
       "4  32 Manufacture of ceramics  tonne of CO2 equ.  299741.0  2021  "
      ]
     },
     "execution_count": 5,
     "metadata": {},
     "output_type": "execute_result"
    }
   ],
   "source": [
    "ets = pd.read_csv('ETS_Database_v49_Jul22.csv', sep='\\t')\n",
    "ets.head()"
   ]
  },
  {
   "cell_type": "markdown",
   "metadata": {},
   "source": [
    "Identify variables"
   ]
  },
  {
   "cell_type": "code",
   "execution_count": 90,
   "metadata": {},
   "outputs": [],
   "source": [
    "rows_to_drop = {}\n",
    "def add_rows_to_drop(colname, *rowvalues):\n",
    "    if not colname in rows_to_drop: rows_to_drop[colname] = []\n",
    "    rows_to_drop[colname].extend(rowvalues)"
   ]
  },
  {
   "cell_type": "code",
   "execution_count": 91,
   "metadata": {},
   "outputs": [
    {
     "name": "stdout",
     "output_type": "stream",
     "text": [
      "                        country country_code\n",
      "0                       Austria           AT\n",
      "68                      Belgium           BE\n",
      "125                    Bulgaria           BG\n",
      "185                      Cyprus           CY\n",
      "220                     Czechia           CZ\n",
      "254                     Germany           DE\n",
      "367                     Denmark           DK\n",
      "395                     Estonia           EE\n",
      "423                       Spain           ES\n",
      "544                      France           FR\n",
      "607                     Finland           FI\n",
      "709                      Greece           GR\n",
      "743   United Kingdom (excl. NI)           GB\n",
      "809                     Hungary           HU\n",
      "827                     Ireland           IE\n",
      "859                     Croatia           HR\n",
      "977                       Italy           IT\n",
      "1007                  Lithuania           LT\n",
      "1048                     Latvia           LV\n",
      "1113                Netherlands           NL\n",
      "1141                 Luxembourg           LU\n",
      "1185                     Norway           NO\n",
      "1247                     Poland           PL\n",
      "1253                   Portugal           PT\n",
      "1321                    Romania           RO\n",
      "1460                   Slovenia           SI\n",
      "1483                   Slovakia           SK\n",
      "1516                     Sweden           SE\n",
      "1755           Northern Ireland           XI\n",
      "1756              Liechtenstein           LI\n",
      "1771                    Iceland           IS\n",
      "1772           NER 300 auctions       NER300\n",
      "1794                      Malta           MT\n"
     ]
    }
   ],
   "source": [
    "countries = ets[['country','country_code']].drop_duplicates()\n",
    "print(countries)\n",
    "add_rows_to_drop('country', 'NER 300 auctions')"
   ]
  },
  {
   "cell_type": "code",
   "execution_count": 92,
   "metadata": {},
   "outputs": [
    {
     "data": {
      "text/plain": [
       "array(['1.1 Freely allocated allowances',\n",
       "       '1.1.1 Free allocation to existing entities (Art. 10a(1))',\n",
       "       '1.1.2 Free allocation from the new entrants reserve (Art. 10a(7))',\n",
       "       '1.1.3 Free allocation for modernisation of electricity generation (Art. 10c)',\n",
       "       '2. Verified emissions', '2.1 EU-ETS Verified Emission',\n",
       "       '4.1 Surrendered EU allowances (EUAs and EUAAs)',\n",
       "       '4.2 Surrendered certified emission reductions (CERs)',\n",
       "       '4. Total surrendered units',\n",
       "       '4.3 Surrendered emission reduction units (ERUs)',\n",
       "       '2.2 Swiss Verified Emissions for aircraft operators',\n",
       "       '4.4 Surrendered Units CHU/CHUAA',\n",
       "       '1.1.4 Swiss Free Allocated allowances for aircraft operators',\n",
       "       '1.2 Correction to freely allocated allowances (not reflected in EUTL)',\n",
       "       '1. Total allocated allowances (EUA or EUAA)',\n",
       "       '3. Estimate to reflect current ETS scope for allowances and emissions',\n",
       "       '1.3 Allowances auctioned or sold (EUAs and EUAAs)'], dtype=object)"
      ]
     },
     "execution_count": 92,
     "metadata": {},
     "output_type": "execute_result"
    }
   ],
   "source": [
    "ets_info = ets['ETS information'].unique()\n",
    "ets_info"
   ]
  },
  {
   "cell_type": "code",
   "execution_count": 93,
   "metadata": {},
   "outputs": [],
   "source": [
    "sectors = ets['main activity sector name'].unique()\n",
    "sectors\n",
    "add_rows_to_drop('main activity sector name', '21-99 All industrial installations (excl. combustion)', '20-99 All stationary installations')"
   ]
  },
  {
   "cell_type": "code",
   "execution_count": 94,
   "metadata": {},
   "outputs": [
    {
     "data": {
      "text/plain": [
       "array(['tonne of CO2 equ.'], dtype=object)"
      ]
     },
     "execution_count": 94,
     "metadata": {},
     "output_type": "execute_result"
    }
   ],
   "source": [
    "units = ets['unit'].unique()\n",
    "units"
   ]
  },
  {
   "cell_type": "code",
   "execution_count": 95,
   "metadata": {},
   "outputs": [],
   "source": [
    "year = ets['year'].unique()\n",
    "year\n",
    "add_rows_to_drop('year', 'Total 1st trading period (05-07)', 'Total 2nd trading period (08-12)', 'Total 3rd trading period (13-20)', 'Total 4th trading period (21-30)')"
   ]
  },
  {
   "cell_type": "markdown",
   "metadata": {},
   "source": [
    "drop rows:"
   ]
  },
  {
   "cell_type": "code",
   "execution_count": 96,
   "metadata": {},
   "outputs": [
    {
     "data": {
      "text/plain": [
       "{'country': ['NER 300 auctions'],\n",
       " 'main activity sector name': ['21-99 All industrial installations (excl. combustion)',\n",
       "  '20-99 All stationary installations'],\n",
       " 'year': ['Total 1st trading period (05-07)',\n",
       "  'Total 2nd trading period (08-12)',\n",
       "  'Total 3rd trading period (13-20)',\n",
       "  'Total 4th trading period (21-30)']}"
      ]
     },
     "execution_count": 96,
     "metadata": {},
     "output_type": "execute_result"
    }
   ],
   "source": [
    "rows_to_drop"
   ]
  },
  {
   "cell_type": "code",
   "execution_count": 111,
   "metadata": {},
   "outputs": [],
   "source": [
    "for colname, values in rows_to_drop.items(): ets.drop(ets.loc[ets[colname].isin(values)].index, inplace=True)"
   ]
  },
  {
   "cell_type": "code",
   "execution_count": 112,
   "metadata": {},
   "outputs": [
    {
     "data": {
      "text/html": [
       "<div>\n",
       "<style scoped>\n",
       "    .dataframe tbody tr th:only-of-type {\n",
       "        vertical-align: middle;\n",
       "    }\n",
       "\n",
       "    .dataframe tbody tr th {\n",
       "        vertical-align: top;\n",
       "    }\n",
       "\n",
       "    .dataframe thead th {\n",
       "        text-align: right;\n",
       "    }\n",
       "</style>\n",
       "<table border=\"1\" class=\"dataframe\">\n",
       "  <thead>\n",
       "    <tr style=\"text-align: right;\">\n",
       "      <th></th>\n",
       "      <th>country</th>\n",
       "      <th>country_code</th>\n",
       "      <th>ETS information</th>\n",
       "      <th>main activity sector name</th>\n",
       "      <th>unit</th>\n",
       "      <th>value</th>\n",
       "      <th>year</th>\n",
       "    </tr>\n",
       "  </thead>\n",
       "  <tbody>\n",
       "    <tr>\n",
       "      <th>0</th>\n",
       "      <td>Austria</td>\n",
       "      <td>AT</td>\n",
       "      <td>1.1 Freely allocated allowances</td>\n",
       "      <td>32 Manufacture of ceramics</td>\n",
       "      <td>tonne of CO2 equ.</td>\n",
       "      <td>498797.0</td>\n",
       "      <td>2005</td>\n",
       "    </tr>\n",
       "    <tr>\n",
       "      <th>1</th>\n",
       "      <td>Austria</td>\n",
       "      <td>AT</td>\n",
       "      <td>1.1 Freely allocated allowances</td>\n",
       "      <td>32 Manufacture of ceramics</td>\n",
       "      <td>tonne of CO2 equ.</td>\n",
       "      <td>383157.0</td>\n",
       "      <td>2013</td>\n",
       "    </tr>\n",
       "    <tr>\n",
       "      <th>2</th>\n",
       "      <td>Austria</td>\n",
       "      <td>AT</td>\n",
       "      <td>1.1 Freely allocated allowances</td>\n",
       "      <td>32 Manufacture of ceramics</td>\n",
       "      <td>tonne of CO2 equ.</td>\n",
       "      <td>351210.0</td>\n",
       "      <td>2017</td>\n",
       "    </tr>\n",
       "    <tr>\n",
       "      <th>3</th>\n",
       "      <td>Austria</td>\n",
       "      <td>AT</td>\n",
       "      <td>1.1 Freely allocated allowances</td>\n",
       "      <td>32 Manufacture of ceramics</td>\n",
       "      <td>tonne of CO2 equ.</td>\n",
       "      <td>335835.0</td>\n",
       "      <td>2018</td>\n",
       "    </tr>\n",
       "    <tr>\n",
       "      <th>4</th>\n",
       "      <td>Austria</td>\n",
       "      <td>AT</td>\n",
       "      <td>1.1 Freely allocated allowances</td>\n",
       "      <td>32 Manufacture of ceramics</td>\n",
       "      <td>tonne of CO2 equ.</td>\n",
       "      <td>299741.0</td>\n",
       "      <td>2021</td>\n",
       "    </tr>\n",
       "    <tr>\n",
       "      <th>...</th>\n",
       "      <td>...</td>\n",
       "      <td>...</td>\n",
       "      <td>...</td>\n",
       "      <td>...</td>\n",
       "      <td>...</td>\n",
       "      <td>...</td>\n",
       "      <td>...</td>\n",
       "    </tr>\n",
       "    <tr>\n",
       "      <th>74917</th>\n",
       "      <td>Slovenia</td>\n",
       "      <td>SI</td>\n",
       "      <td>4. Total surrendered units</td>\n",
       "      <td>24  Production of pig iron or steel</td>\n",
       "      <td>tonne of CO2 equ.</td>\n",
       "      <td>273159.0</td>\n",
       "      <td>2007</td>\n",
       "    </tr>\n",
       "    <tr>\n",
       "      <th>74918</th>\n",
       "      <td>Slovenia</td>\n",
       "      <td>SI</td>\n",
       "      <td>4. Total surrendered units</td>\n",
       "      <td>24  Production of pig iron or steel</td>\n",
       "      <td>tonne of CO2 equ.</td>\n",
       "      <td>218212.0</td>\n",
       "      <td>2016</td>\n",
       "    </tr>\n",
       "    <tr>\n",
       "      <th>74919</th>\n",
       "      <td>Slovenia</td>\n",
       "      <td>SI</td>\n",
       "      <td>4.2 Surrendered certified emission reductions ...</td>\n",
       "      <td>24  Production of pig iron or steel</td>\n",
       "      <td>tonne of CO2 equ.</td>\n",
       "      <td>0.0</td>\n",
       "      <td>2011</td>\n",
       "    </tr>\n",
       "    <tr>\n",
       "      <th>74920</th>\n",
       "      <td>Slovenia</td>\n",
       "      <td>SI</td>\n",
       "      <td>4.2 Surrendered certified emission reductions ...</td>\n",
       "      <td>24  Production of pig iron or steel</td>\n",
       "      <td>tonne of CO2 equ.</td>\n",
       "      <td>0.0</td>\n",
       "      <td>2012</td>\n",
       "    </tr>\n",
       "    <tr>\n",
       "      <th>74921</th>\n",
       "      <td>Slovenia</td>\n",
       "      <td>SI</td>\n",
       "      <td>4.3 Surrendered emission reduction units (ERUs)</td>\n",
       "      <td>24  Production of pig iron or steel</td>\n",
       "      <td>tonne of CO2 equ.</td>\n",
       "      <td>0.0</td>\n",
       "      <td>2007</td>\n",
       "    </tr>\n",
       "  </tbody>\n",
       "</table>\n",
       "<p>53298 rows × 7 columns</p>\n",
       "</div>"
      ],
      "text/plain": [
       "        country country_code  \\\n",
       "0       Austria           AT   \n",
       "1       Austria           AT   \n",
       "2       Austria           AT   \n",
       "3       Austria           AT   \n",
       "4       Austria           AT   \n",
       "...         ...          ...   \n",
       "74917  Slovenia           SI   \n",
       "74918  Slovenia           SI   \n",
       "74919  Slovenia           SI   \n",
       "74920  Slovenia           SI   \n",
       "74921  Slovenia           SI   \n",
       "\n",
       "                                         ETS information  \\\n",
       "0                        1.1 Freely allocated allowances   \n",
       "1                        1.1 Freely allocated allowances   \n",
       "2                        1.1 Freely allocated allowances   \n",
       "3                        1.1 Freely allocated allowances   \n",
       "4                        1.1 Freely allocated allowances   \n",
       "...                                                  ...   \n",
       "74917                         4. Total surrendered units   \n",
       "74918                         4. Total surrendered units   \n",
       "74919  4.2 Surrendered certified emission reductions ...   \n",
       "74920  4.2 Surrendered certified emission reductions ...   \n",
       "74921    4.3 Surrendered emission reduction units (ERUs)   \n",
       "\n",
       "                 main activity sector name               unit     value  year  \n",
       "0               32 Manufacture of ceramics  tonne of CO2 equ.  498797.0  2005  \n",
       "1               32 Manufacture of ceramics  tonne of CO2 equ.  383157.0  2013  \n",
       "2               32 Manufacture of ceramics  tonne of CO2 equ.  351210.0  2017  \n",
       "3               32 Manufacture of ceramics  tonne of CO2 equ.  335835.0  2018  \n",
       "4               32 Manufacture of ceramics  tonne of CO2 equ.  299741.0  2021  \n",
       "...                                    ...                ...       ...   ...  \n",
       "74917  24  Production of pig iron or steel  tonne of CO2 equ.  273159.0  2007  \n",
       "74918  24  Production of pig iron or steel  tonne of CO2 equ.  218212.0  2016  \n",
       "74919  24  Production of pig iron or steel  tonne of CO2 equ.       0.0  2011  \n",
       "74920  24  Production of pig iron or steel  tonne of CO2 equ.       0.0  2012  \n",
       "74921  24  Production of pig iron or steel  tonne of CO2 equ.       0.0  2007  \n",
       "\n",
       "[53298 rows x 7 columns]"
      ]
     },
     "execution_count": 112,
     "metadata": {},
     "output_type": "execute_result"
    }
   ],
   "source": [
    "ets"
   ]
  }
 ],
 "metadata": {
  "kernelspec": {
   "display_name": "base",
   "language": "python",
   "name": "python3"
  },
  "language_info": {
   "codemirror_mode": {
    "name": "ipython",
    "version": 3
   },
   "file_extension": ".py",
   "mimetype": "text/x-python",
   "name": "python",
   "nbconvert_exporter": "python",
   "pygments_lexer": "ipython3",
   "version": "3.9.16"
  },
  "orig_nbformat": 4
 },
 "nbformat": 4,
 "nbformat_minor": 2
}
