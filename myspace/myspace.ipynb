{
 "cells": [
  {
   "attachments": {},
   "cell_type": "markdown",
   "metadata": {},
   "source": [
    "Setup packages and read data"
   ]
  },
  {
   "cell_type": "code",
   "execution_count": 1,
   "metadata": {},
   "outputs": [],
   "source": [
    "import pandas as pd\n",
    "import numpy as np\n",
    "import matplotlib.pyplot as plt"
   ]
  },
  {
   "cell_type": "code",
   "execution_count": 2,
   "metadata": {},
   "outputs": [
    {
     "data": {
      "text/html": [
       "<div>\n",
       "<style scoped>\n",
       "    .dataframe tbody tr th:only-of-type {\n",
       "        vertical-align: middle;\n",
       "    }\n",
       "\n",
       "    .dataframe tbody tr th {\n",
       "        vertical-align: top;\n",
       "    }\n",
       "\n",
       "    .dataframe thead th {\n",
       "        text-align: right;\n",
       "    }\n",
       "</style>\n",
       "<table border=\"1\" class=\"dataframe\">\n",
       "  <thead>\n",
       "    <tr style=\"text-align: right;\">\n",
       "      <th></th>\n",
       "      <th>country</th>\n",
       "      <th>country_code</th>\n",
       "      <th>ETS information</th>\n",
       "      <th>main activity sector name</th>\n",
       "      <th>unit</th>\n",
       "      <th>value</th>\n",
       "      <th>year</th>\n",
       "    </tr>\n",
       "  </thead>\n",
       "  <tbody>\n",
       "    <tr>\n",
       "      <th>0</th>\n",
       "      <td>Austria</td>\n",
       "      <td>AT</td>\n",
       "      <td>1.1 Freely allocated allowances</td>\n",
       "      <td>32 Manufacture of ceramics</td>\n",
       "      <td>tonne of CO2 equ.</td>\n",
       "      <td>498797.0</td>\n",
       "      <td>2005</td>\n",
       "    </tr>\n",
       "    <tr>\n",
       "      <th>1</th>\n",
       "      <td>Austria</td>\n",
       "      <td>AT</td>\n",
       "      <td>1.1 Freely allocated allowances</td>\n",
       "      <td>32 Manufacture of ceramics</td>\n",
       "      <td>tonne of CO2 equ.</td>\n",
       "      <td>383157.0</td>\n",
       "      <td>2013</td>\n",
       "    </tr>\n",
       "    <tr>\n",
       "      <th>2</th>\n",
       "      <td>Austria</td>\n",
       "      <td>AT</td>\n",
       "      <td>1.1 Freely allocated allowances</td>\n",
       "      <td>32 Manufacture of ceramics</td>\n",
       "      <td>tonne of CO2 equ.</td>\n",
       "      <td>351210.0</td>\n",
       "      <td>2017</td>\n",
       "    </tr>\n",
       "    <tr>\n",
       "      <th>3</th>\n",
       "      <td>Austria</td>\n",
       "      <td>AT</td>\n",
       "      <td>1.1 Freely allocated allowances</td>\n",
       "      <td>32 Manufacture of ceramics</td>\n",
       "      <td>tonne of CO2 equ.</td>\n",
       "      <td>335835.0</td>\n",
       "      <td>2018</td>\n",
       "    </tr>\n",
       "    <tr>\n",
       "      <th>4</th>\n",
       "      <td>Austria</td>\n",
       "      <td>AT</td>\n",
       "      <td>1.1 Freely allocated allowances</td>\n",
       "      <td>32 Manufacture of ceramics</td>\n",
       "      <td>tonne of CO2 equ.</td>\n",
       "      <td>299741.0</td>\n",
       "      <td>2021</td>\n",
       "    </tr>\n",
       "  </tbody>\n",
       "</table>\n",
       "</div>"
      ],
      "text/plain": [
       "   country country_code                  ETS information  \\\n",
       "0  Austria           AT  1.1 Freely allocated allowances   \n",
       "1  Austria           AT  1.1 Freely allocated allowances   \n",
       "2  Austria           AT  1.1 Freely allocated allowances   \n",
       "3  Austria           AT  1.1 Freely allocated allowances   \n",
       "4  Austria           AT  1.1 Freely allocated allowances   \n",
       "\n",
       "    main activity sector name               unit     value  year  \n",
       "0  32 Manufacture of ceramics  tonne of CO2 equ.  498797.0  2005  \n",
       "1  32 Manufacture of ceramics  tonne of CO2 equ.  383157.0  2013  \n",
       "2  32 Manufacture of ceramics  tonne of CO2 equ.  351210.0  2017  \n",
       "3  32 Manufacture of ceramics  tonne of CO2 equ.  335835.0  2018  \n",
       "4  32 Manufacture of ceramics  tonne of CO2 equ.  299741.0  2021  "
      ]
     },
     "execution_count": 2,
     "metadata": {},
     "output_type": "execute_result"
    }
   ],
   "source": [
    "ets = pd.read_csv('ETS_Database_v49_Jul22.csv', sep='\\t')\n",
    "ets.head()"
   ]
  },
  {
   "cell_type": "code",
   "execution_count": 3,
   "metadata": {},
   "outputs": [],
   "source": [
    "ets.rename(columns={'ETS information':'info', 'main activity sector name':'sector'}, inplace=True)"
   ]
  },
  {
   "cell_type": "markdown",
   "metadata": {},
   "source": [
    "Identify variables"
   ]
  },
  {
   "cell_type": "code",
   "execution_count": 4,
   "metadata": {},
   "outputs": [],
   "source": [
    "rows_to_drop = {}\n",
    "def add_rows_to_drop(colname, *rowvalues):\n",
    "    if not colname in rows_to_drop: rows_to_drop[colname] = []\n",
    "    rows_to_drop[colname].extend(rowvalues)"
   ]
  },
  {
   "cell_type": "code",
   "execution_count": 5,
   "metadata": {},
   "outputs": [],
   "source": [
    "countries = ets[['country','country_code']].drop_duplicates()\n",
    "add_rows_to_drop('country', 'NER 300 auctions')"
   ]
  },
  {
   "cell_type": "code",
   "execution_count": 6,
   "metadata": {},
   "outputs": [],
   "source": [
    "info = ets['info'].unique()\n",
    "info.sort()\n",
    "add_rows_to_drop('info', '1. Total allocated allowances (EUA or EUAA)', '1.1 Freely allocated allowances', '2. Verified emissions', '4. Total surrendered units')\n"
   ]
  },
  {
   "cell_type": "code",
   "execution_count": 7,
   "metadata": {},
   "outputs": [],
   "source": [
    "sectors = ets['sector'].unique()\n",
    "add_rows_to_drop('sector', '21-99 All industrial installations (excl. combustion)', '20-99 All stationary installations')"
   ]
  },
  {
   "cell_type": "code",
   "execution_count": 8,
   "metadata": {},
   "outputs": [],
   "source": [
    "units = ets['unit'].unique()\n",
    "del ets['unit']"
   ]
  },
  {
   "cell_type": "code",
   "execution_count": 9,
   "metadata": {},
   "outputs": [],
   "source": [
    "year = ets['year'].unique()\n",
    "add_rows_to_drop('year', 'Total 1st trading period (05-07)', 'Total 2nd trading period (08-12)', 'Total 3rd trading period (13-20)', 'Total 4th trading period (21-30)')"
   ]
  },
  {
   "cell_type": "markdown",
   "metadata": {},
   "source": [
    "drop rows:"
   ]
  },
  {
   "cell_type": "code",
   "execution_count": 10,
   "metadata": {},
   "outputs": [],
   "source": [
    "for colname, values in rows_to_drop.items(): ets.drop(ets.loc[ets[colname].isin(values)].index, inplace=True)"
   ]
  },
  {
   "cell_type": "code",
   "execution_count": 13,
   "metadata": {},
   "outputs": [],
   "source": [
    "ets.reset_index(inplace=True)\n",
    "del ets['index']"
   ]
  },
  {
   "cell_type": "code",
   "execution_count": 14,
   "metadata": {},
   "outputs": [
    {
     "data": {
      "text/html": [
       "<div>\n",
       "<style scoped>\n",
       "    .dataframe tbody tr th:only-of-type {\n",
       "        vertical-align: middle;\n",
       "    }\n",
       "\n",
       "    .dataframe tbody tr th {\n",
       "        vertical-align: top;\n",
       "    }\n",
       "\n",
       "    .dataframe thead th {\n",
       "        text-align: right;\n",
       "    }\n",
       "</style>\n",
       "<table border=\"1\" class=\"dataframe\">\n",
       "  <thead>\n",
       "    <tr style=\"text-align: right;\">\n",
       "      <th></th>\n",
       "      <th>level_0</th>\n",
       "      <th>country</th>\n",
       "      <th>country_code</th>\n",
       "      <th>info</th>\n",
       "      <th>sector</th>\n",
       "      <th>value</th>\n",
       "      <th>year</th>\n",
       "    </tr>\n",
       "  </thead>\n",
       "  <tbody>\n",
       "    <tr>\n",
       "      <th>0</th>\n",
       "      <td>0</td>\n",
       "      <td>Austria</td>\n",
       "      <td>AT</td>\n",
       "      <td>1.1.1 Free allocation to existing entities (Ar...</td>\n",
       "      <td>32 Manufacture of ceramics</td>\n",
       "      <td>481340.0</td>\n",
       "      <td>2011</td>\n",
       "    </tr>\n",
       "    <tr>\n",
       "      <th>1</th>\n",
       "      <td>1</td>\n",
       "      <td>Austria</td>\n",
       "      <td>AT</td>\n",
       "      <td>1.1.1 Free allocation to existing entities (Ar...</td>\n",
       "      <td>32 Manufacture of ceramics</td>\n",
       "      <td>478462.0</td>\n",
       "      <td>2012</td>\n",
       "    </tr>\n",
       "    <tr>\n",
       "      <th>2</th>\n",
       "      <td>2</td>\n",
       "      <td>Austria</td>\n",
       "      <td>AT</td>\n",
       "      <td>1.1.2 Free allocation from the new entrants re...</td>\n",
       "      <td>32 Manufacture of ceramics</td>\n",
       "      <td>0.0</td>\n",
       "      <td>2017</td>\n",
       "    </tr>\n",
       "    <tr>\n",
       "      <th>3</th>\n",
       "      <td>3</td>\n",
       "      <td>Austria</td>\n",
       "      <td>AT</td>\n",
       "      <td>1.1.2 Free allocation from the new entrants re...</td>\n",
       "      <td>32 Manufacture of ceramics</td>\n",
       "      <td>0.0</td>\n",
       "      <td>2018</td>\n",
       "    </tr>\n",
       "    <tr>\n",
       "      <th>4</th>\n",
       "      <td>4</td>\n",
       "      <td>Austria</td>\n",
       "      <td>AT</td>\n",
       "      <td>1.1.2 Free allocation from the new entrants re...</td>\n",
       "      <td>32 Manufacture of ceramics</td>\n",
       "      <td>0.0</td>\n",
       "      <td>2021</td>\n",
       "    </tr>\n",
       "    <tr>\n",
       "      <th>...</th>\n",
       "      <td>...</td>\n",
       "      <td>...</td>\n",
       "      <td>...</td>\n",
       "      <td>...</td>\n",
       "      <td>...</td>\n",
       "      <td>...</td>\n",
       "      <td>...</td>\n",
       "    </tr>\n",
       "    <tr>\n",
       "      <th>33049</th>\n",
       "      <td>33049</td>\n",
       "      <td>Slovenia</td>\n",
       "      <td>SI</td>\n",
       "      <td>2.1 EU-ETS Verified Emission</td>\n",
       "      <td>24  Production of pig iron or steel</td>\n",
       "      <td>217488.0</td>\n",
       "      <td>2016</td>\n",
       "    </tr>\n",
       "    <tr>\n",
       "      <th>33050</th>\n",
       "      <td>33050</td>\n",
       "      <td>Slovenia</td>\n",
       "      <td>SI</td>\n",
       "      <td>2.1 EU-ETS Verified Emission</td>\n",
       "      <td>24  Production of pig iron or steel</td>\n",
       "      <td>222518.0</td>\n",
       "      <td>2019</td>\n",
       "    </tr>\n",
       "    <tr>\n",
       "      <th>33051</th>\n",
       "      <td>33051</td>\n",
       "      <td>Slovenia</td>\n",
       "      <td>SI</td>\n",
       "      <td>4.2 Surrendered certified emission reductions ...</td>\n",
       "      <td>24  Production of pig iron or steel</td>\n",
       "      <td>0.0</td>\n",
       "      <td>2011</td>\n",
       "    </tr>\n",
       "    <tr>\n",
       "      <th>33052</th>\n",
       "      <td>33052</td>\n",
       "      <td>Slovenia</td>\n",
       "      <td>SI</td>\n",
       "      <td>4.2 Surrendered certified emission reductions ...</td>\n",
       "      <td>24  Production of pig iron or steel</td>\n",
       "      <td>0.0</td>\n",
       "      <td>2012</td>\n",
       "    </tr>\n",
       "    <tr>\n",
       "      <th>33053</th>\n",
       "      <td>33053</td>\n",
       "      <td>Slovenia</td>\n",
       "      <td>SI</td>\n",
       "      <td>4.3 Surrendered emission reduction units (ERUs)</td>\n",
       "      <td>24  Production of pig iron or steel</td>\n",
       "      <td>0.0</td>\n",
       "      <td>2007</td>\n",
       "    </tr>\n",
       "  </tbody>\n",
       "</table>\n",
       "<p>33054 rows × 7 columns</p>\n",
       "</div>"
      ],
      "text/plain": [
       "       level_0   country country_code  \\\n",
       "0            0   Austria           AT   \n",
       "1            1   Austria           AT   \n",
       "2            2   Austria           AT   \n",
       "3            3   Austria           AT   \n",
       "4            4   Austria           AT   \n",
       "...        ...       ...          ...   \n",
       "33049    33049  Slovenia           SI   \n",
       "33050    33050  Slovenia           SI   \n",
       "33051    33051  Slovenia           SI   \n",
       "33052    33052  Slovenia           SI   \n",
       "33053    33053  Slovenia           SI   \n",
       "\n",
       "                                                    info  \\\n",
       "0      1.1.1 Free allocation to existing entities (Ar...   \n",
       "1      1.1.1 Free allocation to existing entities (Ar...   \n",
       "2      1.1.2 Free allocation from the new entrants re...   \n",
       "3      1.1.2 Free allocation from the new entrants re...   \n",
       "4      1.1.2 Free allocation from the new entrants re...   \n",
       "...                                                  ...   \n",
       "33049                       2.1 EU-ETS Verified Emission   \n",
       "33050                       2.1 EU-ETS Verified Emission   \n",
       "33051  4.2 Surrendered certified emission reductions ...   \n",
       "33052  4.2 Surrendered certified emission reductions ...   \n",
       "33053    4.3 Surrendered emission reduction units (ERUs)   \n",
       "\n",
       "                                    sector     value  year  \n",
       "0               32 Manufacture of ceramics  481340.0  2011  \n",
       "1               32 Manufacture of ceramics  478462.0  2012  \n",
       "2               32 Manufacture of ceramics       0.0  2017  \n",
       "3               32 Manufacture of ceramics       0.0  2018  \n",
       "4               32 Manufacture of ceramics       0.0  2021  \n",
       "...                                    ...       ...   ...  \n",
       "33049  24  Production of pig iron or steel  217488.0  2016  \n",
       "33050  24  Production of pig iron or steel  222518.0  2019  \n",
       "33051  24  Production of pig iron or steel       0.0  2011  \n",
       "33052  24  Production of pig iron or steel       0.0  2012  \n",
       "33053  24  Production of pig iron or steel       0.0  2007  \n",
       "\n",
       "[33054 rows x 7 columns]"
      ]
     },
     "execution_count": 14,
     "metadata": {},
     "output_type": "execute_result"
    }
   ],
   "source": [
    "hist_em = ets.copy()\n",
    "hist_em"
   ]
  },
  {
   "cell_type": "code",
   "execution_count": 16,
   "metadata": {},
   "outputs": [],
   "source": [
    "EU27 = ['Austria', 'Belgium', 'Bulgaria', 'Croatia', 'Cyprus', 'Czech Republic', 'Denmark', 'Estonia', 'Finland', 'France', 'Germany', 'Greece', 'Hungary', 'Ireland', 'Italy', 'Latvia', 'Lithuania', 'Luxembourg', 'Malta', 'Netherlands', 'Poland', 'Portugal', 'Romania', 'Slovakia', 'Slovenia', 'Spain', 'Sweden']\n",
    "UK = ['United Kingdom (excl. NI)', 'Northern Ireland']\n",
    "EU27_UK = [EU27, UK]"
   ]
  },
  {
   "cell_type": "code",
   "execution_count": null,
   "metadata": {},
   "outputs": [],
   "source": []
  }
 ],
 "metadata": {
  "kernelspec": {
   "display_name": "base",
   "language": "python",
   "name": "python3"
  },
  "language_info": {
   "codemirror_mode": {
    "name": "ipython",
    "version": 3
   },
   "file_extension": ".py",
   "mimetype": "text/x-python",
   "name": "python",
   "nbconvert_exporter": "python",
   "pygments_lexer": "ipython3",
   "version": "3.9.16"
  },
  "orig_nbformat": 4
 },
 "nbformat": 4,
 "nbformat_minor": 2
}
