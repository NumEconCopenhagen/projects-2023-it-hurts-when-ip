{
 "cells": [
  {
   "attachments": {},
   "cell_type": "markdown",
   "metadata": {},
   "source": [
    "# __Project Title__\n",
    "<br>"
   ]
  },
  {
   "attachments": {},
   "cell_type": "markdown",
   "metadata": {},
   "source": [
    "# Setup"
   ]
  },
  {
   "cell_type": "code",
   "execution_count": 1,
   "metadata": {},
   "outputs": [],
   "source": [
    "import pandas as pd\n",
    "import numpy as np\n",
    "import matplotlib.pyplot as plt\n",
    "from IPython.display import display\n",
    "import re"
   ]
  },
  {
   "cell_type": "code",
   "execution_count": 2,
   "metadata": {},
   "outputs": [
    {
     "data": {
      "text/html": [
       "<div>\n",
       "<style scoped>\n",
       "    .dataframe tbody tr th:only-of-type {\n",
       "        vertical-align: middle;\n",
       "    }\n",
       "\n",
       "    .dataframe tbody tr th {\n",
       "        vertical-align: top;\n",
       "    }\n",
       "\n",
       "    .dataframe thead th {\n",
       "        text-align: right;\n",
       "    }\n",
       "</style>\n",
       "<table border=\"1\" class=\"dataframe\">\n",
       "  <thead>\n",
       "    <tr style=\"text-align: right;\">\n",
       "      <th></th>\n",
       "      <th>country</th>\n",
       "      <th>country_code</th>\n",
       "      <th>ETS information</th>\n",
       "      <th>main activity sector name</th>\n",
       "      <th>unit</th>\n",
       "      <th>value</th>\n",
       "      <th>year</th>\n",
       "    </tr>\n",
       "  </thead>\n",
       "  <tbody>\n",
       "    <tr>\n",
       "      <th>0</th>\n",
       "      <td>Austria</td>\n",
       "      <td>AT</td>\n",
       "      <td>1.1 Freely allocated allowances</td>\n",
       "      <td>32 Manufacture of ceramics</td>\n",
       "      <td>tonne of CO2 equ.</td>\n",
       "      <td>498797.0</td>\n",
       "      <td>2005</td>\n",
       "    </tr>\n",
       "    <tr>\n",
       "      <th>1</th>\n",
       "      <td>Austria</td>\n",
       "      <td>AT</td>\n",
       "      <td>1.1 Freely allocated allowances</td>\n",
       "      <td>32 Manufacture of ceramics</td>\n",
       "      <td>tonne of CO2 equ.</td>\n",
       "      <td>383157.0</td>\n",
       "      <td>2013</td>\n",
       "    </tr>\n",
       "    <tr>\n",
       "      <th>2</th>\n",
       "      <td>Austria</td>\n",
       "      <td>AT</td>\n",
       "      <td>1.1 Freely allocated allowances</td>\n",
       "      <td>32 Manufacture of ceramics</td>\n",
       "      <td>tonne of CO2 equ.</td>\n",
       "      <td>351210.0</td>\n",
       "      <td>2017</td>\n",
       "    </tr>\n",
       "    <tr>\n",
       "      <th>3</th>\n",
       "      <td>Austria</td>\n",
       "      <td>AT</td>\n",
       "      <td>1.1 Freely allocated allowances</td>\n",
       "      <td>32 Manufacture of ceramics</td>\n",
       "      <td>tonne of CO2 equ.</td>\n",
       "      <td>335835.0</td>\n",
       "      <td>2018</td>\n",
       "    </tr>\n",
       "    <tr>\n",
       "      <th>4</th>\n",
       "      <td>Austria</td>\n",
       "      <td>AT</td>\n",
       "      <td>1.1 Freely allocated allowances</td>\n",
       "      <td>32 Manufacture of ceramics</td>\n",
       "      <td>tonne of CO2 equ.</td>\n",
       "      <td>299741.0</td>\n",
       "      <td>2021</td>\n",
       "    </tr>\n",
       "  </tbody>\n",
       "</table>\n",
       "</div>"
      ],
      "text/plain": [
       "   country country_code                  ETS information  \\\n",
       "0  Austria           AT  1.1 Freely allocated allowances   \n",
       "1  Austria           AT  1.1 Freely allocated allowances   \n",
       "2  Austria           AT  1.1 Freely allocated allowances   \n",
       "3  Austria           AT  1.1 Freely allocated allowances   \n",
       "4  Austria           AT  1.1 Freely allocated allowances   \n",
       "\n",
       "    main activity sector name               unit     value  year  \n",
       "0  32 Manufacture of ceramics  tonne of CO2 equ.  498797.0  2005  \n",
       "1  32 Manufacture of ceramics  tonne of CO2 equ.  383157.0  2013  \n",
       "2  32 Manufacture of ceramics  tonne of CO2 equ.  351210.0  2017  \n",
       "3  32 Manufacture of ceramics  tonne of CO2 equ.  335835.0  2018  \n",
       "4  32 Manufacture of ceramics  tonne of CO2 equ.  299741.0  2021  "
      ]
     },
     "execution_count": 2,
     "metadata": {},
     "output_type": "execute_result"
    }
   ],
   "source": [
    "# read data\n",
    "ets = pd.read_csv('ETS_Database_v49_Jul22.csv', sep='\\t')\n",
    "ets.head()"
   ]
  },
  {
   "attachments": {},
   "cell_type": "markdown",
   "metadata": {},
   "source": [
    "<br><br>\n",
    "# Read and clean data"
   ]
  },
  {
   "cell_type": "markdown",
   "metadata": {},
   "source": [
    "### Rename columns"
   ]
  },
  {
   "cell_type": "code",
   "execution_count": 3,
   "metadata": {},
   "outputs": [],
   "source": [
    "ets.rename(columns={'ETS information':'category', 'main activity sector name':'sector'}, inplace=True)"
   ]
  },
  {
   "attachments": {},
   "cell_type": "markdown",
   "metadata": {},
   "source": [
    "<br>\n",
    "\n",
    "### Check for unwanted data and delete"
   ]
  },
  {
   "cell_type": "code",
   "execution_count": 4,
   "metadata": {},
   "outputs": [],
   "source": [
    "# establish list of rows to drop and handler function\n",
    "rows_to_drop = {}\n",
    "def add_rows_to_drop(colname, *rowvalues):\n",
    "    if not colname in rows_to_drop: rows_to_drop[colname] = []\n",
    "    rows_to_drop[colname].extend(rowvalues)"
   ]
  },
  {
   "cell_type": "markdown",
   "metadata": {},
   "source": [
    "<br><br>"
   ]
  },
  {
   "cell_type": "code",
   "execution_count": 5,
   "metadata": {},
   "outputs": [
    {
     "data": {
      "text/html": [
       "<div>\n",
       "<style scoped>\n",
       "    .dataframe tbody tr th:only-of-type {\n",
       "        vertical-align: middle;\n",
       "    }\n",
       "\n",
       "    .dataframe tbody tr th {\n",
       "        vertical-align: top;\n",
       "    }\n",
       "\n",
       "    .dataframe thead th {\n",
       "        text-align: right;\n",
       "    }\n",
       "</style>\n",
       "<table border=\"1\" class=\"dataframe\">\n",
       "  <thead>\n",
       "    <tr style=\"text-align: right;\">\n",
       "      <th></th>\n",
       "      <th>country</th>\n",
       "      <th>country_code</th>\n",
       "    </tr>\n",
       "  </thead>\n",
       "  <tbody>\n",
       "    <tr>\n",
       "      <th>0</th>\n",
       "      <td>Austria</td>\n",
       "      <td>AT</td>\n",
       "    </tr>\n",
       "    <tr>\n",
       "      <th>68</th>\n",
       "      <td>Belgium</td>\n",
       "      <td>BE</td>\n",
       "    </tr>\n",
       "    <tr>\n",
       "      <th>125</th>\n",
       "      <td>Bulgaria</td>\n",
       "      <td>BG</td>\n",
       "    </tr>\n",
       "    <tr>\n",
       "      <th>185</th>\n",
       "      <td>Cyprus</td>\n",
       "      <td>CY</td>\n",
       "    </tr>\n",
       "    <tr>\n",
       "      <th>220</th>\n",
       "      <td>Czechia</td>\n",
       "      <td>CZ</td>\n",
       "    </tr>\n",
       "    <tr>\n",
       "      <th>254</th>\n",
       "      <td>Germany</td>\n",
       "      <td>DE</td>\n",
       "    </tr>\n",
       "    <tr>\n",
       "      <th>367</th>\n",
       "      <td>Denmark</td>\n",
       "      <td>DK</td>\n",
       "    </tr>\n",
       "    <tr>\n",
       "      <th>395</th>\n",
       "      <td>Estonia</td>\n",
       "      <td>EE</td>\n",
       "    </tr>\n",
       "    <tr>\n",
       "      <th>423</th>\n",
       "      <td>Spain</td>\n",
       "      <td>ES</td>\n",
       "    </tr>\n",
       "    <tr>\n",
       "      <th>544</th>\n",
       "      <td>France</td>\n",
       "      <td>FR</td>\n",
       "    </tr>\n",
       "    <tr>\n",
       "      <th>607</th>\n",
       "      <td>Finland</td>\n",
       "      <td>FI</td>\n",
       "    </tr>\n",
       "    <tr>\n",
       "      <th>709</th>\n",
       "      <td>Greece</td>\n",
       "      <td>GR</td>\n",
       "    </tr>\n",
       "    <tr>\n",
       "      <th>743</th>\n",
       "      <td>United Kingdom (excl. NI)</td>\n",
       "      <td>GB</td>\n",
       "    </tr>\n",
       "    <tr>\n",
       "      <th>809</th>\n",
       "      <td>Hungary</td>\n",
       "      <td>HU</td>\n",
       "    </tr>\n",
       "    <tr>\n",
       "      <th>827</th>\n",
       "      <td>Ireland</td>\n",
       "      <td>IE</td>\n",
       "    </tr>\n",
       "    <tr>\n",
       "      <th>859</th>\n",
       "      <td>Croatia</td>\n",
       "      <td>HR</td>\n",
       "    </tr>\n",
       "    <tr>\n",
       "      <th>977</th>\n",
       "      <td>Italy</td>\n",
       "      <td>IT</td>\n",
       "    </tr>\n",
       "    <tr>\n",
       "      <th>1007</th>\n",
       "      <td>Lithuania</td>\n",
       "      <td>LT</td>\n",
       "    </tr>\n",
       "    <tr>\n",
       "      <th>1048</th>\n",
       "      <td>Latvia</td>\n",
       "      <td>LV</td>\n",
       "    </tr>\n",
       "    <tr>\n",
       "      <th>1113</th>\n",
       "      <td>Netherlands</td>\n",
       "      <td>NL</td>\n",
       "    </tr>\n",
       "    <tr>\n",
       "      <th>1141</th>\n",
       "      <td>Luxembourg</td>\n",
       "      <td>LU</td>\n",
       "    </tr>\n",
       "    <tr>\n",
       "      <th>1185</th>\n",
       "      <td>Norway</td>\n",
       "      <td>NO</td>\n",
       "    </tr>\n",
       "    <tr>\n",
       "      <th>1247</th>\n",
       "      <td>Poland</td>\n",
       "      <td>PL</td>\n",
       "    </tr>\n",
       "    <tr>\n",
       "      <th>1253</th>\n",
       "      <td>Portugal</td>\n",
       "      <td>PT</td>\n",
       "    </tr>\n",
       "    <tr>\n",
       "      <th>1321</th>\n",
       "      <td>Romania</td>\n",
       "      <td>RO</td>\n",
       "    </tr>\n",
       "    <tr>\n",
       "      <th>1460</th>\n",
       "      <td>Slovenia</td>\n",
       "      <td>SI</td>\n",
       "    </tr>\n",
       "    <tr>\n",
       "      <th>1483</th>\n",
       "      <td>Slovakia</td>\n",
       "      <td>SK</td>\n",
       "    </tr>\n",
       "    <tr>\n",
       "      <th>1516</th>\n",
       "      <td>Sweden</td>\n",
       "      <td>SE</td>\n",
       "    </tr>\n",
       "    <tr>\n",
       "      <th>1755</th>\n",
       "      <td>Northern Ireland</td>\n",
       "      <td>XI</td>\n",
       "    </tr>\n",
       "    <tr>\n",
       "      <th>1756</th>\n",
       "      <td>Liechtenstein</td>\n",
       "      <td>LI</td>\n",
       "    </tr>\n",
       "    <tr>\n",
       "      <th>1771</th>\n",
       "      <td>Iceland</td>\n",
       "      <td>IS</td>\n",
       "    </tr>\n",
       "    <tr>\n",
       "      <th>1772</th>\n",
       "      <td>NER 300 auctions</td>\n",
       "      <td>NER300</td>\n",
       "    </tr>\n",
       "    <tr>\n",
       "      <th>1794</th>\n",
       "      <td>Malta</td>\n",
       "      <td>MT</td>\n",
       "    </tr>\n",
       "  </tbody>\n",
       "</table>\n",
       "</div>"
      ],
      "text/plain": [
       "                        country country_code\n",
       "0                       Austria           AT\n",
       "68                      Belgium           BE\n",
       "125                    Bulgaria           BG\n",
       "185                      Cyprus           CY\n",
       "220                     Czechia           CZ\n",
       "254                     Germany           DE\n",
       "367                     Denmark           DK\n",
       "395                     Estonia           EE\n",
       "423                       Spain           ES\n",
       "544                      France           FR\n",
       "607                     Finland           FI\n",
       "709                      Greece           GR\n",
       "743   United Kingdom (excl. NI)           GB\n",
       "809                     Hungary           HU\n",
       "827                     Ireland           IE\n",
       "859                     Croatia           HR\n",
       "977                       Italy           IT\n",
       "1007                  Lithuania           LT\n",
       "1048                     Latvia           LV\n",
       "1113                Netherlands           NL\n",
       "1141                 Luxembourg           LU\n",
       "1185                     Norway           NO\n",
       "1247                     Poland           PL\n",
       "1253                   Portugal           PT\n",
       "1321                    Romania           RO\n",
       "1460                   Slovenia           SI\n",
       "1483                   Slovakia           SK\n",
       "1516                     Sweden           SE\n",
       "1755           Northern Ireland           XI\n",
       "1756              Liechtenstein           LI\n",
       "1771                    Iceland           IS\n",
       "1772           NER 300 auctions       NER300\n",
       "1794                      Malta           MT"
      ]
     },
     "metadata": {},
     "output_type": "display_data"
    }
   ],
   "source": [
    "# check country column\n",
    "countries = ets[['country','country_code']].drop_duplicates()\n",
    "display(countries)"
   ]
  },
  {
   "cell_type": "code",
   "execution_count": 6,
   "metadata": {},
   "outputs": [],
   "source": [
    "add_rows_to_drop('country', 'NER 300 auctions') # remove unwanted auction data"
   ]
  },
  {
   "cell_type": "markdown",
   "metadata": {},
   "source": [
    "<br><br>"
   ]
  },
  {
   "cell_type": "code",
   "execution_count": 7,
   "metadata": {},
   "outputs": [
    {
     "data": {
      "text/plain": [
       "array(['1. Total allocated allowances (EUA or EUAA)',\n",
       "       '1.1 Freely allocated allowances',\n",
       "       '1.1.1 Free allocation to existing entities (Art. 10a(1))',\n",
       "       '1.1.2 Free allocation from the new entrants reserve (Art. 10a(7))',\n",
       "       '1.1.3 Free allocation for modernisation of electricity generation (Art. 10c)',\n",
       "       '1.1.4 Swiss Free Allocated allowances for aircraft operators',\n",
       "       '1.2 Correction to freely allocated allowances (not reflected in EUTL)',\n",
       "       '1.3 Allowances auctioned or sold (EUAs and EUAAs)',\n",
       "       '2. Verified emissions', '2.1 EU-ETS Verified Emission',\n",
       "       '2.2 Swiss Verified Emissions for aircraft operators',\n",
       "       '3. Estimate to reflect current ETS scope for allowances and emissions',\n",
       "       '4. Total surrendered units',\n",
       "       '4.1 Surrendered EU allowances (EUAs and EUAAs)',\n",
       "       '4.2 Surrendered certified emission reductions (CERs)',\n",
       "       '4.3 Surrendered emission reduction units (ERUs)',\n",
       "       '4.4 Surrendered Units CHU/CHUAA'], dtype=object)"
      ]
     },
     "metadata": {},
     "output_type": "display_data"
    }
   ],
   "source": [
    "# check category column\n",
    "categories = ets['category'].unique()\n",
    "categories.sort(); display(categories)"
   ]
  },
  {
   "cell_type": "code",
   "execution_count": 8,
   "metadata": {},
   "outputs": [],
   "source": [
    "# over-engineer a function to identify super categories\n",
    "def gather_super_categories(categories):\n",
    "    found = []\n",
    "    num_stop_start = '^[0-9\\.]+'\n",
    "    num_maybe_stop_end = '\\.?[0-9]\\.?$'\n",
    "\n",
    "    for category in categories:\n",
    "        num_id = re.search(num_stop_start, category).group() # get identifying numbers at start of string\n",
    "        super_category = num_id[:re.search(num_maybe_stop_end, num_id).start()] # keep all but last number (and stops if present)   1.1.2. -> 1.1\n",
    "        if super_category and super_category not in found: found.append(super_category)\n",
    "\n",
    "    found = [f+'.' if len(f)==1 else f for f in found] # handle inconsistent point formatting\n",
    "    filter = pd.Series(categories).str.startswith(tuple([f+' ' for f in found])) \n",
    "    return categories[filter]"
   ]
  },
  {
   "cell_type": "code",
   "execution_count": 9,
   "metadata": {},
   "outputs": [],
   "source": [
    "add_rows_to_drop('category', *gather_super_categories(categories))"
   ]
  },
  {
   "cell_type": "markdown",
   "metadata": {},
   "source": [
    "<br><br>"
   ]
  },
  {
   "cell_type": "code",
   "execution_count": 10,
   "metadata": {},
   "outputs": [
    {
     "data": {
      "text/plain": [
       "array(['10 Aviation', '20 Combustion of fuels',\n",
       "       '20-99 All stationary installations',\n",
       "       '21  Refining of mineral oil',\n",
       "       '21-99 All industrial installations (excl. combustion)',\n",
       "       '22  Production of coke', '23 Metal ore roasting or sintering',\n",
       "       '24  Production of pig iron or steel',\n",
       "       '25 Production or processing of ferrous metals',\n",
       "       '26 Production of primary aluminium',\n",
       "       '27 Production of secondary aluminium',\n",
       "       '28 Production or processing of non-ferrous metals',\n",
       "       '29 Production of cement clinker',\n",
       "       '30 Production of lime, or calcination of dolomite/magnesite',\n",
       "       '31 Manufacture of glass', '32 Manufacture of ceramics',\n",
       "       '33 Manufacture of mineral wool',\n",
       "       '34 Production or processing of gypsum or plasterboard',\n",
       "       '35 Production of pulp', '36 Production of paper or cardboard',\n",
       "       '37 Production of carbon black', '38 Production of nitric acid',\n",
       "       '39 Production of adipic acid',\n",
       "       '40 Production of glyoxal and glyoxylic acid',\n",
       "       '41 Production of ammonia', '42 Production of bulk chemicals',\n",
       "       '43 Production of hydrogen and synthesis gas',\n",
       "       '44 Production of soda ash and sodium bicarbonate',\n",
       "       '45 Capture of greenhouse gases under Directive 2009/31/EC',\n",
       "       '99 Other activity opted-in under Art. 24'], dtype=object)"
      ]
     },
     "metadata": {},
     "output_type": "display_data"
    }
   ],
   "source": [
    "# check sector column\n",
    "sectors = ets['sector'].unique()\n",
    "sectors.sort(); display(sectors)"
   ]
  },
  {
   "cell_type": "code",
   "execution_count": 11,
   "metadata": {},
   "outputs": [],
   "source": [
    "add_rows_to_drop('sector', '21-99 All industrial installations (excl. combustion)', '20-99 All stationary installations')"
   ]
  },
  {
   "cell_type": "code",
   "execution_count": 15,
   "metadata": {},
   "outputs": [],
   "source": [
    "# fix inconsistent naming\n",
    "def remove_double_spaces(s): return s.replace('  ', ' ')\n",
    "ets['sector'] = ets['sector'].apply(remove_double_spaces)"
   ]
  },
  {
   "cell_type": "markdown",
   "metadata": {},
   "source": [
    "<br><br>"
   ]
  },
  {
   "cell_type": "code",
   "execution_count": 17,
   "metadata": {},
   "outputs": [
    {
     "data": {
      "text/plain": [
       "array(['tonne of CO2 equ.'], dtype=object)"
      ]
     },
     "metadata": {},
     "output_type": "display_data"
    }
   ],
   "source": [
    "# check unit column\n",
    "units = ets['unit'].unique()\n",
    "display(units)"
   ]
  },
  {
   "cell_type": "code",
   "execution_count": 18,
   "metadata": {},
   "outputs": [],
   "source": [
    "del ets['unit']"
   ]
  },
  {
   "cell_type": "markdown",
   "metadata": {},
   "source": [
    "<br><br>"
   ]
  },
  {
   "cell_type": "code",
   "execution_count": 19,
   "metadata": {},
   "outputs": [
    {
     "data": {
      "text/plain": [
       "array(['2005', '2013', '2017', '2018', '2021', '2022', '2011', '2012',\n",
       "       '2016', '2020', '2007', '2008', '2006', '2009', '2015', '2014',\n",
       "       '2019', '2010', 'Total 1st trading period (05-07)',\n",
       "       'Total 2nd trading period (08-12)',\n",
       "       'Total 4th trading period (21-30)',\n",
       "       'Total 3rd trading period (13-20)'], dtype=object)"
      ]
     },
     "metadata": {},
     "output_type": "display_data"
    }
   ],
   "source": [
    "# check year column\n",
    "year = ets['year'].unique()\n",
    "display(year)"
   ]
  },
  {
   "cell_type": "code",
   "execution_count": 20,
   "metadata": {},
   "outputs": [],
   "source": [
    "add_rows_to_drop('year', 'Total 1st trading period (05-07)', 'Total 2nd trading period (08-12)', 'Total 3rd trading period (13-20)', 'Total 4th trading period (21-30)')"
   ]
  },
  {
   "cell_type": "markdown",
   "metadata": {},
   "source": [
    "<br><br>"
   ]
  },
  {
   "cell_type": "code",
   "execution_count": 21,
   "metadata": {},
   "outputs": [],
   "source": [
    "# perform row drop and reset index\n",
    "for colname, values in rows_to_drop.items(): ets.drop(ets.loc[ets[colname].isin(values)].index, inplace=True)\n",
    "_ = ets.reset_index(drop=True)"
   ]
  },
  {
   "cell_type": "code",
   "execution_count": 22,
   "metadata": {},
   "outputs": [],
   "source": [
    "# format year type\n",
    "ets['year'] = ets['year'].astype('int')"
   ]
  },
  {
   "cell_type": "markdown",
   "metadata": {},
   "source": [
    "<br><br>"
   ]
  },
  {
   "cell_type": "code",
   "execution_count": 23,
   "metadata": {},
   "outputs": [
    {
     "data": {
      "text/html": [
       "<div>\n",
       "<style scoped>\n",
       "    .dataframe tbody tr th:only-of-type {\n",
       "        vertical-align: middle;\n",
       "    }\n",
       "\n",
       "    .dataframe tbody tr th {\n",
       "        vertical-align: top;\n",
       "    }\n",
       "\n",
       "    .dataframe thead th {\n",
       "        text-align: right;\n",
       "    }\n",
       "</style>\n",
       "<table border=\"1\" class=\"dataframe\">\n",
       "  <thead>\n",
       "    <tr style=\"text-align: right;\">\n",
       "      <th></th>\n",
       "      <th>country</th>\n",
       "      <th>country_code</th>\n",
       "      <th>category</th>\n",
       "      <th>sector</th>\n",
       "      <th>value</th>\n",
       "      <th>year</th>\n",
       "    </tr>\n",
       "  </thead>\n",
       "  <tbody>\n",
       "    <tr>\n",
       "      <th>6</th>\n",
       "      <td>Austria</td>\n",
       "      <td>AT</td>\n",
       "      <td>1.1.1 Free allocation to existing entities (Ar...</td>\n",
       "      <td>32 Manufacture of ceramics</td>\n",
       "      <td>481340.0</td>\n",
       "      <td>2011</td>\n",
       "    </tr>\n",
       "    <tr>\n",
       "      <th>7</th>\n",
       "      <td>Austria</td>\n",
       "      <td>AT</td>\n",
       "      <td>1.1.1 Free allocation to existing entities (Ar...</td>\n",
       "      <td>32 Manufacture of ceramics</td>\n",
       "      <td>478462.0</td>\n",
       "      <td>2012</td>\n",
       "    </tr>\n",
       "    <tr>\n",
       "      <th>8</th>\n",
       "      <td>Austria</td>\n",
       "      <td>AT</td>\n",
       "      <td>1.1.2 Free allocation from the new entrants re...</td>\n",
       "      <td>32 Manufacture of ceramics</td>\n",
       "      <td>0.0</td>\n",
       "      <td>2017</td>\n",
       "    </tr>\n",
       "    <tr>\n",
       "      <th>9</th>\n",
       "      <td>Austria</td>\n",
       "      <td>AT</td>\n",
       "      <td>1.1.2 Free allocation from the new entrants re...</td>\n",
       "      <td>32 Manufacture of ceramics</td>\n",
       "      <td>0.0</td>\n",
       "      <td>2018</td>\n",
       "    </tr>\n",
       "    <tr>\n",
       "      <th>10</th>\n",
       "      <td>Austria</td>\n",
       "      <td>AT</td>\n",
       "      <td>1.1.2 Free allocation from the new entrants re...</td>\n",
       "      <td>32 Manufacture of ceramics</td>\n",
       "      <td>0.0</td>\n",
       "      <td>2021</td>\n",
       "    </tr>\n",
       "    <tr>\n",
       "      <th>...</th>\n",
       "      <td>...</td>\n",
       "      <td>...</td>\n",
       "      <td>...</td>\n",
       "      <td>...</td>\n",
       "      <td>...</td>\n",
       "      <td>...</td>\n",
       "    </tr>\n",
       "    <tr>\n",
       "      <th>74915</th>\n",
       "      <td>Slovenia</td>\n",
       "      <td>SI</td>\n",
       "      <td>2.1 EU-ETS Verified Emission</td>\n",
       "      <td>24 Production of pig iron or steel</td>\n",
       "      <td>217488.0</td>\n",
       "      <td>2016</td>\n",
       "    </tr>\n",
       "    <tr>\n",
       "      <th>74916</th>\n",
       "      <td>Slovenia</td>\n",
       "      <td>SI</td>\n",
       "      <td>2.1 EU-ETS Verified Emission</td>\n",
       "      <td>24 Production of pig iron or steel</td>\n",
       "      <td>222518.0</td>\n",
       "      <td>2019</td>\n",
       "    </tr>\n",
       "    <tr>\n",
       "      <th>74919</th>\n",
       "      <td>Slovenia</td>\n",
       "      <td>SI</td>\n",
       "      <td>4.2 Surrendered certified emission reductions ...</td>\n",
       "      <td>24 Production of pig iron or steel</td>\n",
       "      <td>0.0</td>\n",
       "      <td>2011</td>\n",
       "    </tr>\n",
       "    <tr>\n",
       "      <th>74920</th>\n",
       "      <td>Slovenia</td>\n",
       "      <td>SI</td>\n",
       "      <td>4.2 Surrendered certified emission reductions ...</td>\n",
       "      <td>24 Production of pig iron or steel</td>\n",
       "      <td>0.0</td>\n",
       "      <td>2012</td>\n",
       "    </tr>\n",
       "    <tr>\n",
       "      <th>74921</th>\n",
       "      <td>Slovenia</td>\n",
       "      <td>SI</td>\n",
       "      <td>4.3 Surrendered emission reduction units (ERUs)</td>\n",
       "      <td>24 Production of pig iron or steel</td>\n",
       "      <td>0.0</td>\n",
       "      <td>2007</td>\n",
       "    </tr>\n",
       "  </tbody>\n",
       "</table>\n",
       "<p>33054 rows × 6 columns</p>\n",
       "</div>"
      ],
      "text/plain": [
       "        country country_code  \\\n",
       "6       Austria           AT   \n",
       "7       Austria           AT   \n",
       "8       Austria           AT   \n",
       "9       Austria           AT   \n",
       "10      Austria           AT   \n",
       "...         ...          ...   \n",
       "74915  Slovenia           SI   \n",
       "74916  Slovenia           SI   \n",
       "74919  Slovenia           SI   \n",
       "74920  Slovenia           SI   \n",
       "74921  Slovenia           SI   \n",
       "\n",
       "                                                category  \\\n",
       "6      1.1.1 Free allocation to existing entities (Ar...   \n",
       "7      1.1.1 Free allocation to existing entities (Ar...   \n",
       "8      1.1.2 Free allocation from the new entrants re...   \n",
       "9      1.1.2 Free allocation from the new entrants re...   \n",
       "10     1.1.2 Free allocation from the new entrants re...   \n",
       "...                                                  ...   \n",
       "74915                       2.1 EU-ETS Verified Emission   \n",
       "74916                       2.1 EU-ETS Verified Emission   \n",
       "74919  4.2 Surrendered certified emission reductions ...   \n",
       "74920  4.2 Surrendered certified emission reductions ...   \n",
       "74921    4.3 Surrendered emission reduction units (ERUs)   \n",
       "\n",
       "                                   sector     value  year  \n",
       "6              32 Manufacture of ceramics  481340.0  2011  \n",
       "7              32 Manufacture of ceramics  478462.0  2012  \n",
       "8              32 Manufacture of ceramics       0.0  2017  \n",
       "9              32 Manufacture of ceramics       0.0  2018  \n",
       "10             32 Manufacture of ceramics       0.0  2021  \n",
       "...                                   ...       ...   ...  \n",
       "74915  24 Production of pig iron or steel  217488.0  2016  \n",
       "74916  24 Production of pig iron or steel  222518.0  2019  \n",
       "74919  24 Production of pig iron or steel       0.0  2011  \n",
       "74920  24 Production of pig iron or steel       0.0  2012  \n",
       "74921  24 Production of pig iron or steel       0.0  2007  \n",
       "\n",
       "[33054 rows x 6 columns]"
      ]
     },
     "metadata": {},
     "output_type": "display_data"
    }
   ],
   "source": [
    "# resulting dataframe\n",
    "display(ets)"
   ]
  },
  {
   "attachments": {},
   "cell_type": "markdown",
   "metadata": {},
   "source": [
    "<br><br>\n",
    "# Seperate data"
   ]
  },
  {
   "cell_type": "code",
   "execution_count": 24,
   "metadata": {},
   "outputs": [],
   "source": [
    "# seperate copies to prevent unintended effects\n",
    "allocations = ets.copy().loc[ets['category'].str.startswith('1.')]\n",
    "emissions = ets.copy().loc[ets['category'].str.startswith('2.')]\n",
    "surrendered = ets.copy().loc[ets['category'].str.startswith('4.')]"
   ]
  },
  {
   "attachments": {},
   "cell_type": "markdown",
   "metadata": {},
   "source": [
    "<br><br>\n",
    "\n",
    "# Describing Data"
   ]
  },
  {
   "cell_type": "markdown",
   "metadata": {},
   "source": [
    "<br>\n",
    "\n",
    "### Emissions by sector"
   ]
  },
  {
   "cell_type": "code",
   "execution_count": 25,
   "metadata": {},
   "outputs": [
    {
     "data": {
      "image/png": "[encoded data removed]",
      "text/plain": [
       "<Figure size 640x480 with 1 Axes>"
      ]
     },
     "metadata": {},
     "output_type": "display_data"
    }
   ],
   "source": [
    "emissions_by_sector = emissions.groupby('sector')['value'].apply('sum')\n",
    "_ = emissions_by_sector.sort_values(inplace=True)\n",
    "_ = emissions_by_sector.plot(kind='barh', logx=True)"
   ]
  },
  {
   "attachments": {},
   "cell_type": "markdown",
   "metadata": {},
   "source": [
    "<br>\n",
    "\n",
    "### Emissions by sector over time"
   ]
  },
  {
   "cell_type": "code",
   "execution_count": 42,
   "metadata": {},
   "outputs": [],
   "source": [
    "def group_sectors(sector):\n",
    "    if sector in ['20 Combustion of fuels',\n",
    "                 '21 Refining of mineral oil',\n",
    "                 '29 Production of cement clinker',\n",
    "                 '24 Production of pig iron or steel',\n",
    "                 '10 Aviation']: return sector\n",
    "    else: return 'Other'"
   ]
  },
  {
   "cell_type": "code",
   "execution_count": 49,
   "metadata": {},
   "outputs": [],
   "source": [
    "def group_year_sector(idx):\n",
    "    year, sector = emissions['year'][idx], emissions['sector'][idx]\n",
    "    sector_grp = group_sectors(sector)\n",
    "    return f'{year}, {sector_grp}'"
   ]
  },
  {
   "cell_type": "code",
   "execution_count": 50,
   "metadata": {},
   "outputs": [
    {
     "ename": "KeyError",
     "evalue": "'32 Manufacture of ceramics'",
     "output_type": "error",
     "traceback": [
      "\u001b[1;31m---------------------------------------------------------------------------\u001b[0m",
      "\u001b[1;31mKeyError\u001b[0m                                  Traceback (most recent call last)",
      "File \u001b[1;32mc:\\Users\\alast\\anaconda3\\lib\\site-packages\\pandas\\core\\indexes\\base.py:3802\u001b[0m, in \u001b[0;36mIndex.get_loc\u001b[1;34m(self, key, method, tolerance)\u001b[0m\n\u001b[0;32m   3801\u001b[0m \u001b[39mtry\u001b[39;00m:\n\u001b[1;32m-> 3802\u001b[0m     \u001b[39mreturn\u001b[39;00m \u001b[39mself\u001b[39;49m\u001b[39m.\u001b[39;49m_engine\u001b[39m.\u001b[39;49mget_loc(casted_key)\n\u001b[0;32m   3803\u001b[0m \u001b[39mexcept\u001b[39;00m \u001b[39mKeyError\u001b[39;00m \u001b[39mas\u001b[39;00m err:\n",
      "File \u001b[1;32mc:\\Users\\alast\\anaconda3\\lib\\site-packages\\pandas\\_libs\\index.pyx:138\u001b[0m, in \u001b[0;36mpandas._libs.index.IndexEngine.get_loc\u001b[1;34m()\u001b[0m\n",
      "File \u001b[1;32mc:\\Users\\alast\\anaconda3\\lib\\site-packages\\pandas\\_libs\\index.pyx:146\u001b[0m, in \u001b[0;36mpandas._libs.index.IndexEngine.get_loc\u001b[1;34m()\u001b[0m\n",
      "File \u001b[1;32mpandas\\_libs\\index_class_helper.pxi:49\u001b[0m, in \u001b[0;36mpandas._libs.index.Int64Engine._check_type\u001b[1;34m()\u001b[0m\n",
      "\u001b[1;31mKeyError\u001b[0m: '32 Manufacture of ceramics'",
      "\nThe above exception was the direct cause of the following exception:\n",
      "\u001b[1;31mKeyError\u001b[0m                                  Traceback (most recent call last)",
      "Cell \u001b[1;32mIn[50], line 1\u001b[0m\n\u001b[1;32m----> 1\u001b[0m sector_groups \u001b[39m=\u001b[39m emissions\u001b[39m.\u001b[39;49mgroupby(group_year_sector)[\u001b[39m'\u001b[39m\u001b[39mvalue\u001b[39m\u001b[39m'\u001b[39m]\u001b[39m.\u001b[39mapply(\u001b[39m'\u001b[39m\u001b[39msum\u001b[39m\u001b[39m'\u001b[39m)\n\u001b[0;32m      2\u001b[0m sector_groups\n",
      "File \u001b[1;32mc:\\Users\\alast\\anaconda3\\lib\\site-packages\\pandas\\core\\frame.py:8402\u001b[0m, in \u001b[0;36mDataFrame.groupby\u001b[1;34m(self, by, axis, level, as_index, sort, group_keys, squeeze, observed, dropna)\u001b[0m\n\u001b[0;32m   8399\u001b[0m     \u001b[39mraise\u001b[39;00m \u001b[39mTypeError\u001b[39;00m(\u001b[39m\"\u001b[39m\u001b[39mYou have to supply one of \u001b[39m\u001b[39m'\u001b[39m\u001b[39mby\u001b[39m\u001b[39m'\u001b[39m\u001b[39m and \u001b[39m\u001b[39m'\u001b[39m\u001b[39mlevel\u001b[39m\u001b[39m'\u001b[39m\u001b[39m\"\u001b[39m)\n\u001b[0;32m   8400\u001b[0m axis \u001b[39m=\u001b[39m \u001b[39mself\u001b[39m\u001b[39m.\u001b[39m_get_axis_number(axis)\n\u001b[1;32m-> 8402\u001b[0m \u001b[39mreturn\u001b[39;00m DataFrameGroupBy(\n\u001b[0;32m   8403\u001b[0m     obj\u001b[39m=\u001b[39;49m\u001b[39mself\u001b[39;49m,\n\u001b[0;32m   8404\u001b[0m     keys\u001b[39m=\u001b[39;49mby,\n\u001b[0;32m   8405\u001b[0m     axis\u001b[39m=\u001b[39;49maxis,\n\u001b[0;32m   8406\u001b[0m     level\u001b[39m=\u001b[39;49mlevel,\n\u001b[0;32m   8407\u001b[0m     as_index\u001b[39m=\u001b[39;49mas_index,\n\u001b[0;32m   8408\u001b[0m     sort\u001b[39m=\u001b[39;49msort,\n\u001b[0;32m   8409\u001b[0m     group_keys\u001b[39m=\u001b[39;49mgroup_keys,\n\u001b[0;32m   8410\u001b[0m     squeeze\u001b[39m=\u001b[39;49msqueeze,\n\u001b[0;32m   8411\u001b[0m     observed\u001b[39m=\u001b[39;49mobserved,\n\u001b[0;32m   8412\u001b[0m     dropna\u001b[39m=\u001b[39;49mdropna,\n\u001b[0;32m   8413\u001b[0m )\n",
      "File \u001b[1;32mc:\\Users\\alast\\anaconda3\\lib\\site-packages\\pandas\\core\\groupby\\groupby.py:965\u001b[0m, in \u001b[0;36mGroupBy.__init__\u001b[1;34m(self, obj, keys, axis, level, grouper, exclusions, selection, as_index, sort, group_keys, squeeze, observed, mutated, dropna)\u001b[0m\n\u001b[0;32m    962\u001b[0m \u001b[39mif\u001b[39;00m grouper \u001b[39mis\u001b[39;00m \u001b[39mNone\u001b[39;00m:\n\u001b[0;32m    963\u001b[0m     \u001b[39mfrom\u001b[39;00m \u001b[39mpandas\u001b[39;00m\u001b[39m.\u001b[39;00m\u001b[39mcore\u001b[39;00m\u001b[39m.\u001b[39;00m\u001b[39mgroupby\u001b[39;00m\u001b[39m.\u001b[39;00m\u001b[39mgrouper\u001b[39;00m \u001b[39mimport\u001b[39;00m get_grouper\n\u001b[1;32m--> 965\u001b[0m     grouper, exclusions, obj \u001b[39m=\u001b[39m get_grouper(\n\u001b[0;32m    966\u001b[0m         obj,\n\u001b[0;32m    967\u001b[0m         keys,\n\u001b[0;32m    968\u001b[0m         axis\u001b[39m=\u001b[39;49maxis,\n\u001b[0;32m    969\u001b[0m         level\u001b[39m=\u001b[39;49mlevel,\n\u001b[0;32m    970\u001b[0m         sort\u001b[39m=\u001b[39;49msort,\n\u001b[0;32m    971\u001b[0m         observed\u001b[39m=\u001b[39;49mobserved,\n\u001b[0;32m    972\u001b[0m         mutated\u001b[39m=\u001b[39;49m\u001b[39mself\u001b[39;49m\u001b[39m.\u001b[39;49mmutated,\n\u001b[0;32m    973\u001b[0m         dropna\u001b[39m=\u001b[39;49m\u001b[39mself\u001b[39;49m\u001b[39m.\u001b[39;49mdropna,\n\u001b[0;32m    974\u001b[0m     )\n\u001b[0;32m    976\u001b[0m \u001b[39mself\u001b[39m\u001b[39m.\u001b[39mobj \u001b[39m=\u001b[39m obj\n\u001b[0;32m    977\u001b[0m \u001b[39mself\u001b[39m\u001b[39m.\u001b[39maxis \u001b[39m=\u001b[39m obj\u001b[39m.\u001b[39m_get_axis_number(axis)\n",
      "File \u001b[1;32mc:\\Users\\alast\\anaconda3\\lib\\site-packages\\pandas\\core\\groupby\\grouper.py:899\u001b[0m, in \u001b[0;36mget_grouper\u001b[1;34m(obj, key, axis, level, sort, observed, mutated, validate, dropna)\u001b[0m\n\u001b[0;32m    894\u001b[0m         in_axis \u001b[39m=\u001b[39m \u001b[39mFalse\u001b[39;00m\n\u001b[0;32m    896\u001b[0m     \u001b[39m# create the Grouping\u001b[39;00m\n\u001b[0;32m    897\u001b[0m     \u001b[39m# allow us to passing the actual Grouping as the gpr\u001b[39;00m\n\u001b[0;32m    898\u001b[0m     ping \u001b[39m=\u001b[39m (\n\u001b[1;32m--> 899\u001b[0m         Grouping(\n\u001b[0;32m    900\u001b[0m             group_axis,\n\u001b[0;32m    901\u001b[0m             gpr,\n\u001b[0;32m    902\u001b[0m             obj\u001b[39m=\u001b[39;49mobj,\n\u001b[0;32m    903\u001b[0m             level\u001b[39m=\u001b[39;49mlevel,\n\u001b[0;32m    904\u001b[0m             sort\u001b[39m=\u001b[39;49msort,\n\u001b[0;32m    905\u001b[0m             observed\u001b[39m=\u001b[39;49mobserved,\n\u001b[0;32m    906\u001b[0m             in_axis\u001b[39m=\u001b[39;49min_axis,\n\u001b[0;32m    907\u001b[0m             dropna\u001b[39m=\u001b[39;49mdropna,\n\u001b[0;32m    908\u001b[0m         )\n\u001b[0;32m    909\u001b[0m         \u001b[39mif\u001b[39;00m \u001b[39mnot\u001b[39;00m \u001b[39misinstance\u001b[39m(gpr, Grouping)\n\u001b[0;32m    910\u001b[0m         \u001b[39melse\u001b[39;00m gpr\n\u001b[0;32m    911\u001b[0m     )\n\u001b[0;32m    913\u001b[0m     groupings\u001b[39m.\u001b[39mappend(ping)\n\u001b[0;32m    915\u001b[0m \u001b[39mif\u001b[39;00m \u001b[39mlen\u001b[39m(groupings) \u001b[39m==\u001b[39m \u001b[39m0\u001b[39m \u001b[39mand\u001b[39;00m \u001b[39mlen\u001b[39m(obj):\n",
      "File \u001b[1;32mc:\\Users\\alast\\anaconda3\\lib\\site-packages\\pandas\\core\\groupby\\grouper.py:544\u001b[0m, in \u001b[0;36mGrouping.__init__\u001b[1;34m(self, index, grouper, obj, level, sort, observed, in_axis, dropna)\u001b[0m\n\u001b[0;32m    541\u001b[0m     t \u001b[39m=\u001b[39m \u001b[39mself\u001b[39m\u001b[39m.\u001b[39mname \u001b[39mor\u001b[39;00m \u001b[39mstr\u001b[39m(\u001b[39mtype\u001b[39m(\u001b[39mself\u001b[39m\u001b[39m.\u001b[39mgrouping_vector))\n\u001b[0;32m    542\u001b[0m     \u001b[39mraise\u001b[39;00m \u001b[39mValueError\u001b[39;00m(\u001b[39mf\u001b[39m\u001b[39m\"\u001b[39m\u001b[39mGrouper for \u001b[39m\u001b[39m'\u001b[39m\u001b[39m{\u001b[39;00mt\u001b[39m}\u001b[39;00m\u001b[39m'\u001b[39m\u001b[39m not 1-dimensional\u001b[39m\u001b[39m\"\u001b[39m)\n\u001b[1;32m--> 544\u001b[0m \u001b[39mself\u001b[39m\u001b[39m.\u001b[39mgrouping_vector \u001b[39m=\u001b[39m index\u001b[39m.\u001b[39;49mmap(\u001b[39mself\u001b[39;49m\u001b[39m.\u001b[39;49mgrouping_vector)\n\u001b[0;32m    546\u001b[0m \u001b[39mif\u001b[39;00m \u001b[39mnot\u001b[39;00m (\n\u001b[0;32m    547\u001b[0m     \u001b[39mhasattr\u001b[39m(\u001b[39mself\u001b[39m\u001b[39m.\u001b[39mgrouping_vector, \u001b[39m\"\u001b[39m\u001b[39m__len__\u001b[39m\u001b[39m\"\u001b[39m)\n\u001b[0;32m    548\u001b[0m     \u001b[39mand\u001b[39;00m \u001b[39mlen\u001b[39m(\u001b[39mself\u001b[39m\u001b[39m.\u001b[39mgrouping_vector) \u001b[39m==\u001b[39m \u001b[39mlen\u001b[39m(index)\n\u001b[0;32m    549\u001b[0m ):\n\u001b[0;32m    550\u001b[0m     grper \u001b[39m=\u001b[39m pprint_thing(\u001b[39mself\u001b[39m\u001b[39m.\u001b[39mgrouping_vector)\n",
      "File \u001b[1;32mc:\\Users\\alast\\anaconda3\\lib\\site-packages\\pandas\\core\\indexes\\base.py:6361\u001b[0m, in \u001b[0;36mIndex.map\u001b[1;34m(self, mapper, na_action)\u001b[0m\n\u001b[0;32m   6341\u001b[0m \u001b[39m\u001b[39m\u001b[39m\"\"\"\u001b[39;00m\n\u001b[0;32m   6342\u001b[0m \u001b[39mMap values using an input mapping or function.\u001b[39;00m\n\u001b[0;32m   6343\u001b[0m \n\u001b[1;32m   (...)\u001b[0m\n\u001b[0;32m   6357\u001b[0m \u001b[39m    a MultiIndex will be returned.\u001b[39;00m\n\u001b[0;32m   6358\u001b[0m \u001b[39m\"\"\"\u001b[39;00m\n\u001b[0;32m   6359\u001b[0m \u001b[39mfrom\u001b[39;00m \u001b[39mpandas\u001b[39;00m\u001b[39m.\u001b[39;00m\u001b[39mcore\u001b[39;00m\u001b[39m.\u001b[39;00m\u001b[39mindexes\u001b[39;00m\u001b[39m.\u001b[39;00m\u001b[39mmulti\u001b[39;00m \u001b[39mimport\u001b[39;00m MultiIndex\n\u001b[1;32m-> 6361\u001b[0m new_values \u001b[39m=\u001b[39m \u001b[39mself\u001b[39;49m\u001b[39m.\u001b[39;49m_map_values(mapper, na_action\u001b[39m=\u001b[39;49mna_action)\n\u001b[0;32m   6363\u001b[0m \u001b[39m# we can return a MultiIndex\u001b[39;00m\n\u001b[0;32m   6364\u001b[0m \u001b[39mif\u001b[39;00m new_values\u001b[39m.\u001b[39msize \u001b[39mand\u001b[39;00m \u001b[39misinstance\u001b[39m(new_values[\u001b[39m0\u001b[39m], \u001b[39mtuple\u001b[39m):\n",
      "File \u001b[1;32mc:\\Users\\alast\\anaconda3\\lib\\site-packages\\pandas\\core\\base.py:890\u001b[0m, in \u001b[0;36mIndexOpsMixin._map_values\u001b[1;34m(self, mapper, na_action)\u001b[0m\n\u001b[0;32m    887\u001b[0m         \u001b[39mraise\u001b[39;00m \u001b[39mValueError\u001b[39;00m(msg)\n\u001b[0;32m    889\u001b[0m \u001b[39m# mapper is a function\u001b[39;00m\n\u001b[1;32m--> 890\u001b[0m new_values \u001b[39m=\u001b[39m map_f(values, mapper)\n\u001b[0;32m    892\u001b[0m \u001b[39mreturn\u001b[39;00m new_values\n",
      "File \u001b[1;32mc:\\Users\\alast\\anaconda3\\lib\\site-packages\\pandas\\_libs\\lib.pyx:2924\u001b[0m, in \u001b[0;36mpandas._libs.lib.map_infer\u001b[1;34m()\u001b[0m\n",
      "Cell \u001b[1;32mIn[49], line 3\u001b[0m, in \u001b[0;36mgroup_year_sector\u001b[1;34m(idx)\u001b[0m\n\u001b[0;32m      1\u001b[0m \u001b[39mdef\u001b[39;00m \u001b[39mgroup_year_sector\u001b[39m(idx):\n\u001b[0;32m      2\u001b[0m     year, sector \u001b[39m=\u001b[39m emissions[\u001b[39m'\u001b[39m\u001b[39myear\u001b[39m\u001b[39m'\u001b[39m][idx], emissions[\u001b[39m'\u001b[39m\u001b[39msector\u001b[39m\u001b[39m'\u001b[39m][idx]\n\u001b[1;32m----> 3\u001b[0m     sector_grp \u001b[39m=\u001b[39m group_sectors(sector)\n\u001b[0;32m      4\u001b[0m     \u001b[39mreturn\u001b[39;00m \u001b[39mf\u001b[39m\u001b[39m'\u001b[39m\u001b[39m{\u001b[39;00myear\u001b[39m}\u001b[39;00m\u001b[39m, \u001b[39m\u001b[39m{\u001b[39;00msector_grp\u001b[39m}\u001b[39;00m\u001b[39m'\u001b[39m\n",
      "Cell \u001b[1;32mIn[42], line 2\u001b[0m, in \u001b[0;36mgroup_sectors\u001b[1;34m(idx)\u001b[0m\n\u001b[0;32m      1\u001b[0m \u001b[39mdef\u001b[39;00m \u001b[39mgroup_sectors\u001b[39m(idx):\n\u001b[1;32m----> 2\u001b[0m     label \u001b[39m=\u001b[39m emissions[\u001b[39m'\u001b[39;49m\u001b[39msector\u001b[39;49m\u001b[39m'\u001b[39;49m][idx]\n\u001b[0;32m      3\u001b[0m     \u001b[39mif\u001b[39;00m label \u001b[39min\u001b[39;00m [\u001b[39m'\u001b[39m\u001b[39m20 Combustion of fuels\u001b[39m\u001b[39m'\u001b[39m,\n\u001b[0;32m      4\u001b[0m                  \u001b[39m'\u001b[39m\u001b[39m21 Refining of mineral oil\u001b[39m\u001b[39m'\u001b[39m,\n\u001b[0;32m      5\u001b[0m                  \u001b[39m'\u001b[39m\u001b[39m29 Production of cement clinker\u001b[39m\u001b[39m'\u001b[39m,\n\u001b[0;32m      6\u001b[0m                  \u001b[39m'\u001b[39m\u001b[39m24 Production of pig iron or steel\u001b[39m\u001b[39m'\u001b[39m,\n\u001b[0;32m      7\u001b[0m                  \u001b[39m'\u001b[39m\u001b[39m10 Aviation\u001b[39m\u001b[39m'\u001b[39m]: \u001b[39mreturn\u001b[39;00m label\n",
      "File \u001b[1;32mc:\\Users\\alast\\anaconda3\\lib\\site-packages\\pandas\\core\\series.py:981\u001b[0m, in \u001b[0;36mSeries.__getitem__\u001b[1;34m(self, key)\u001b[0m\n\u001b[0;32m    978\u001b[0m     \u001b[39mreturn\u001b[39;00m \u001b[39mself\u001b[39m\u001b[39m.\u001b[39m_values[key]\n\u001b[0;32m    980\u001b[0m \u001b[39melif\u001b[39;00m key_is_scalar:\n\u001b[1;32m--> 981\u001b[0m     \u001b[39mreturn\u001b[39;00m \u001b[39mself\u001b[39;49m\u001b[39m.\u001b[39;49m_get_value(key)\n\u001b[0;32m    983\u001b[0m \u001b[39mif\u001b[39;00m is_hashable(key):\n\u001b[0;32m    984\u001b[0m     \u001b[39m# Otherwise index.get_value will raise InvalidIndexError\u001b[39;00m\n\u001b[0;32m    985\u001b[0m     \u001b[39mtry\u001b[39;00m:\n\u001b[0;32m    986\u001b[0m         \u001b[39m# For labels that don't resolve as scalars like tuples and frozensets\u001b[39;00m\n",
      "File \u001b[1;32mc:\\Users\\alast\\anaconda3\\lib\\site-packages\\pandas\\core\\series.py:1089\u001b[0m, in \u001b[0;36mSeries._get_value\u001b[1;34m(self, label, takeable)\u001b[0m\n\u001b[0;32m   1086\u001b[0m     \u001b[39mreturn\u001b[39;00m \u001b[39mself\u001b[39m\u001b[39m.\u001b[39m_values[label]\n\u001b[0;32m   1088\u001b[0m \u001b[39m# Similar to Index.get_value, but we do not fall back to positional\u001b[39;00m\n\u001b[1;32m-> 1089\u001b[0m loc \u001b[39m=\u001b[39m \u001b[39mself\u001b[39;49m\u001b[39m.\u001b[39;49mindex\u001b[39m.\u001b[39;49mget_loc(label)\n\u001b[0;32m   1090\u001b[0m \u001b[39mreturn\u001b[39;00m \u001b[39mself\u001b[39m\u001b[39m.\u001b[39mindex\u001b[39m.\u001b[39m_get_values_for_loc(\u001b[39mself\u001b[39m, loc, label)\n",
      "File \u001b[1;32mc:\\Users\\alast\\anaconda3\\lib\\site-packages\\pandas\\core\\indexes\\base.py:3804\u001b[0m, in \u001b[0;36mIndex.get_loc\u001b[1;34m(self, key, method, tolerance)\u001b[0m\n\u001b[0;32m   3802\u001b[0m     \u001b[39mreturn\u001b[39;00m \u001b[39mself\u001b[39m\u001b[39m.\u001b[39m_engine\u001b[39m.\u001b[39mget_loc(casted_key)\n\u001b[0;32m   3803\u001b[0m \u001b[39mexcept\u001b[39;00m \u001b[39mKeyError\u001b[39;00m \u001b[39mas\u001b[39;00m err:\n\u001b[1;32m-> 3804\u001b[0m     \u001b[39mraise\u001b[39;00m \u001b[39mKeyError\u001b[39;00m(key) \u001b[39mfrom\u001b[39;00m \u001b[39merr\u001b[39;00m\n\u001b[0;32m   3805\u001b[0m \u001b[39mexcept\u001b[39;00m \u001b[39mTypeError\u001b[39;00m:\n\u001b[0;32m   3806\u001b[0m     \u001b[39m# If we have a listlike key, _check_indexing_error will raise\u001b[39;00m\n\u001b[0;32m   3807\u001b[0m     \u001b[39m#  InvalidIndexError. Otherwise we fall through and re-raise\u001b[39;00m\n\u001b[0;32m   3808\u001b[0m     \u001b[39m#  the TypeError.\u001b[39;00m\n\u001b[0;32m   3809\u001b[0m     \u001b[39mself\u001b[39m\u001b[39m.\u001b[39m_check_indexing_error(key)\n",
      "\u001b[1;31mKeyError\u001b[0m: '32 Manufacture of ceramics'"
     ]
    }
   ],
   "source": [
    "sector_groups = emissions.groupby(group_year_sector)['value'].apply('sum')\n",
    "sector_groups"
   ]
  },
  {
   "cell_type": "code",
   "execution_count": 45,
   "metadata": {},
   "outputs": [
    {
     "ename": "AttributeError",
     "evalue": "'DataFrameGroupBy' object has no attribute 'groupby'",
     "output_type": "error",
     "traceback": [
      "\u001b[1;31m---------------------------------------------------------------------------\u001b[0m",
      "\u001b[1;31mAttributeError\u001b[0m                            Traceback (most recent call last)",
      "Cell \u001b[1;32mIn[45], line 1\u001b[0m\n\u001b[1;32m----> 1\u001b[0m emissions_sector_over_time \u001b[39m=\u001b[39m sector_groups\u001b[39m.\u001b[39;49mgroupby([\u001b[39m'\u001b[39m\u001b[39myear\u001b[39m\u001b[39m'\u001b[39m,\u001b[39m'\u001b[39m\u001b[39msector\u001b[39m\u001b[39m'\u001b[39m])[\u001b[39m'\u001b[39m\u001b[39mvalue\u001b[39m\u001b[39m'\u001b[39m]\u001b[39m.\u001b[39mapply(\u001b[39m'\u001b[39m\u001b[39msum\u001b[39m\u001b[39m'\u001b[39m)\n\u001b[0;32m      2\u001b[0m fig, ax \u001b[39m=\u001b[39m plt\u001b[39m.\u001b[39msubplots(figsize\u001b[39m=\u001b[39m(\u001b[39m15\u001b[39m,\u001b[39m15\u001b[39m))\n\u001b[0;32m      4\u001b[0m \u001b[39mfor\u001b[39;00m sector, group \u001b[39min\u001b[39;00m emissions_sector_over_time\u001b[39m.\u001b[39mgroupby(\u001b[39m'\u001b[39m\u001b[39msector\u001b[39m\u001b[39m'\u001b[39m):\n",
      "File \u001b[1;32mc:\\Users\\alast\\anaconda3\\lib\\site-packages\\pandas\\core\\groupby\\groupby.py:987\u001b[0m, in \u001b[0;36mGroupBy.__getattr__\u001b[1;34m(self, attr)\u001b[0m\n\u001b[0;32m    984\u001b[0m \u001b[39mif\u001b[39;00m attr \u001b[39min\u001b[39;00m \u001b[39mself\u001b[39m\u001b[39m.\u001b[39mobj:\n\u001b[0;32m    985\u001b[0m     \u001b[39mreturn\u001b[39;00m \u001b[39mself\u001b[39m[attr]\n\u001b[1;32m--> 987\u001b[0m \u001b[39mraise\u001b[39;00m \u001b[39mAttributeError\u001b[39;00m(\n\u001b[0;32m    988\u001b[0m     \u001b[39mf\u001b[39m\u001b[39m\"\u001b[39m\u001b[39m'\u001b[39m\u001b[39m{\u001b[39;00m\u001b[39mtype\u001b[39m(\u001b[39mself\u001b[39m)\u001b[39m.\u001b[39m\u001b[39m__name__\u001b[39m\u001b[39m}\u001b[39;00m\u001b[39m'\u001b[39m\u001b[39m object has no attribute \u001b[39m\u001b[39m'\u001b[39m\u001b[39m{\u001b[39;00mattr\u001b[39m}\u001b[39;00m\u001b[39m'\u001b[39m\u001b[39m\"\u001b[39m\n\u001b[0;32m    989\u001b[0m )\n",
      "\u001b[1;31mAttributeError\u001b[0m: 'DataFrameGroupBy' object has no attribute 'groupby'"
     ]
    }
   ],
   "source": [
    "emissions_sector_over_time = sector_groups.groupby(['year','sector'])['value'].apply('sum')\n",
    "fig, ax = plt.subplots(figsize=(15,15))\n",
    "\n",
    "for sector, group in emissions_sector_over_time.groupby('sector'):\n",
    "    group.reset_index().plot(ax=ax, x='year', y='value', label=sector)"
   ]
  },
  {
   "cell_type": "code",
   "execution_count": null,
   "metadata": {},
   "outputs": [],
   "source": []
  },
  {
   "cell_type": "code",
   "execution_count": null,
   "metadata": {},
   "outputs": [],
   "source": []
  },
  {
   "cell_type": "code",
   "execution_count": null,
   "metadata": {},
   "outputs": [],
   "source": []
  },
  {
   "cell_type": "code",
   "execution_count": null,
   "metadata": {},
   "outputs": [],
   "source": [
    "EU27 = ['Austria', 'Belgium', 'Bulgaria', 'Croatia', 'Cyprus', 'Czech Republic', 'Denmark', 'Estonia', 'Finland', 'France', 'Germany', 'Greece', 'Hungary', 'Ireland', 'Italy', 'Latvia', 'Lithuania', 'Luxembourg', 'Malta', 'Netherlands', 'Poland', 'Portugal', 'Romania', 'Slovakia', 'Slovenia', 'Spain', 'Sweden']\n",
    "UK = ['United Kingdom (excl. NI)', 'Northern Ireland']\n",
    "EU27_UK = [EU27, UK]"
   ]
  }
 ],
 "metadata": {
  "kernelspec": {
   "display_name": "base",
   "language": "python",
   "name": "python3"
  },
  "language_info": {
   "codemirror_mode": {
    "name": "ipython",
    "version": 3
   },
   "file_extension": ".py",
   "mimetype": "text/x-python",
   "name": "python",
   "nbconvert_exporter": "python",
   "pygments_lexer": "ipython3",
   "version": "3.9.16"
  },
  "orig_nbformat": 4
 },
 "nbformat": 4,
 "nbformat_minor": 2
}
