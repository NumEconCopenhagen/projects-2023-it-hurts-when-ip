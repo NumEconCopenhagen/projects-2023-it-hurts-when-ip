{
 "cells": [
  {
   "attachments": {},
   "cell_type": "markdown",
   "metadata": {},
   "source": [
    "Setup packages and read data"
   ]
  },
  {
   "cell_type": "code",
   "execution_count": 167,
   "metadata": {},
   "outputs": [],
   "source": [
    "import pandas as pd\n",
    "import numpy as np\n",
    "import matplotlib.pyplot as plt"
   ]
  },
  {
   "cell_type": "code",
   "execution_count": 131,
   "metadata": {},
   "outputs": [
    {
     "data": {
      "text/html": [
       "<div>\n",
       "<style scoped>\n",
       "    .dataframe tbody tr th:only-of-type {\n",
       "        vertical-align: middle;\n",
       "    }\n",
       "\n",
       "    .dataframe tbody tr th {\n",
       "        vertical-align: top;\n",
       "    }\n",
       "\n",
       "    .dataframe thead th {\n",
       "        text-align: right;\n",
       "    }\n",
       "</style>\n",
       "<table border=\"1\" class=\"dataframe\">\n",
       "  <thead>\n",
       "    <tr style=\"text-align: right;\">\n",
       "      <th></th>\n",
       "      <th>country</th>\n",
       "      <th>country_code</th>\n",
       "      <th>ETS information</th>\n",
       "      <th>main activity sector name</th>\n",
       "      <th>unit</th>\n",
       "      <th>value</th>\n",
       "      <th>year</th>\n",
       "    </tr>\n",
       "  </thead>\n",
       "  <tbody>\n",
       "    <tr>\n",
       "      <th>0</th>\n",
       "      <td>Austria</td>\n",
       "      <td>AT</td>\n",
       "      <td>1.1 Freely allocated allowances</td>\n",
       "      <td>32 Manufacture of ceramics</td>\n",
       "      <td>tonne of CO2 equ.</td>\n",
       "      <td>498797.0</td>\n",
       "      <td>2005</td>\n",
       "    </tr>\n",
       "    <tr>\n",
       "      <th>1</th>\n",
       "      <td>Austria</td>\n",
       "      <td>AT</td>\n",
       "      <td>1.1 Freely allocated allowances</td>\n",
       "      <td>32 Manufacture of ceramics</td>\n",
       "      <td>tonne of CO2 equ.</td>\n",
       "      <td>383157.0</td>\n",
       "      <td>2013</td>\n",
       "    </tr>\n",
       "    <tr>\n",
       "      <th>2</th>\n",
       "      <td>Austria</td>\n",
       "      <td>AT</td>\n",
       "      <td>1.1 Freely allocated allowances</td>\n",
       "      <td>32 Manufacture of ceramics</td>\n",
       "      <td>tonne of CO2 equ.</td>\n",
       "      <td>351210.0</td>\n",
       "      <td>2017</td>\n",
       "    </tr>\n",
       "    <tr>\n",
       "      <th>3</th>\n",
       "      <td>Austria</td>\n",
       "      <td>AT</td>\n",
       "      <td>1.1 Freely allocated allowances</td>\n",
       "      <td>32 Manufacture of ceramics</td>\n",
       "      <td>tonne of CO2 equ.</td>\n",
       "      <td>335835.0</td>\n",
       "      <td>2018</td>\n",
       "    </tr>\n",
       "    <tr>\n",
       "      <th>4</th>\n",
       "      <td>Austria</td>\n",
       "      <td>AT</td>\n",
       "      <td>1.1 Freely allocated allowances</td>\n",
       "      <td>32 Manufacture of ceramics</td>\n",
       "      <td>tonne of CO2 equ.</td>\n",
       "      <td>299741.0</td>\n",
       "      <td>2021</td>\n",
       "    </tr>\n",
       "  </tbody>\n",
       "</table>\n",
       "</div>"
      ],
      "text/plain": [
       "   country country_code                  ETS information  \\\n",
       "0  Austria           AT  1.1 Freely allocated allowances   \n",
       "1  Austria           AT  1.1 Freely allocated allowances   \n",
       "2  Austria           AT  1.1 Freely allocated allowances   \n",
       "3  Austria           AT  1.1 Freely allocated allowances   \n",
       "4  Austria           AT  1.1 Freely allocated allowances   \n",
       "\n",
       "    main activity sector name               unit     value  year  \n",
       "0  32 Manufacture of ceramics  tonne of CO2 equ.  498797.0  2005  \n",
       "1  32 Manufacture of ceramics  tonne of CO2 equ.  383157.0  2013  \n",
       "2  32 Manufacture of ceramics  tonne of CO2 equ.  351210.0  2017  \n",
       "3  32 Manufacture of ceramics  tonne of CO2 equ.  335835.0  2018  \n",
       "4  32 Manufacture of ceramics  tonne of CO2 equ.  299741.0  2021  "
      ]
     },
     "execution_count": 131,
     "metadata": {},
     "output_type": "execute_result"
    }
   ],
   "source": [
    "ets = pd.read_csv('ETS_Database_v49_Jul22.csv', sep='\\t')\n",
    "ets.head()"
   ]
  },
  {
   "cell_type": "code",
   "execution_count": 132,
   "metadata": {},
   "outputs": [],
   "source": [
    "ets.rename(columns={'ETS information':'info', 'main activity sector name':'sector'}, inplace=True)"
   ]
  },
  {
   "cell_type": "markdown",
   "metadata": {},
   "source": [
    "Identify variables"
   ]
  },
  {
   "cell_type": "code",
   "execution_count": 133,
   "metadata": {},
   "outputs": [],
   "source": [
    "rows_to_drop = {}\n",
    "def add_rows_to_drop(colname, *rowvalues):\n",
    "    if not colname in rows_to_drop: rows_to_drop[colname] = []\n",
    "    rows_to_drop[colname].extend(rowvalues)"
   ]
  },
  {
   "cell_type": "code",
   "execution_count": 134,
   "metadata": {},
   "outputs": [],
   "source": [
    "countries = ets[['country','country_code']].drop_duplicates()\n",
    "add_rows_to_drop('country', 'NER 300 auctions')"
   ]
  },
  {
   "cell_type": "code",
   "execution_count": 135,
   "metadata": {},
   "outputs": [],
   "source": [
    "info = ets['info'].unique()\n",
    "info.sort()\n",
    "add_rows_to_drop('info', '1. Total allocated allowances (EUA or EUAA)', '1.1 Freely allocated allowances', '2. Verified emissions', '4. Total surrendered units')\n"
   ]
  },
  {
   "cell_type": "code",
   "execution_count": 136,
   "metadata": {},
   "outputs": [],
   "source": [
    "sectors = ets['sector'].unique()\n",
    "add_rows_to_drop('sector', '21-99 All industrial installations (excl. combustion)', '20-99 All stationary installations')"
   ]
  },
  {
   "cell_type": "code",
   "execution_count": 137,
   "metadata": {},
   "outputs": [],
   "source": [
    "units = ets['unit'].unique()\n",
    "del ets['unit']"
   ]
  },
  {
   "cell_type": "code",
   "execution_count": 138,
   "metadata": {},
   "outputs": [],
   "source": [
    "year = ets['year'].unique()\n",
    "add_rows_to_drop('year', 'Total 1st trading period (05-07)', 'Total 2nd trading period (08-12)', 'Total 3rd trading period (13-20)', 'Total 4th trading period (21-30)')"
   ]
  },
  {
   "cell_type": "markdown",
   "metadata": {},
   "source": [
    "drop rows:"
   ]
  },
  {
   "cell_type": "code",
   "execution_count": 139,
   "metadata": {},
   "outputs": [],
   "source": [
    "for colname, values in rows_to_drop.items(): ets.drop(ets.loc[ets[colname].isin(values)].index, inplace=True)"
   ]
  },
  {
   "cell_type": "code",
   "execution_count": 146,
   "metadata": {},
   "outputs": [
    {
     "data": {
      "text/html": [
       "<div>\n",
       "<style scoped>\n",
       "    .dataframe tbody tr th:only-of-type {\n",
       "        vertical-align: middle;\n",
       "    }\n",
       "\n",
       "    .dataframe tbody tr th {\n",
       "        vertical-align: top;\n",
       "    }\n",
       "\n",
       "    .dataframe thead th {\n",
       "        text-align: right;\n",
       "    }\n",
       "</style>\n",
       "<table border=\"1\" class=\"dataframe\">\n",
       "  <thead>\n",
       "    <tr style=\"text-align: right;\">\n",
       "      <th></th>\n",
       "      <th>country</th>\n",
       "      <th>country_code</th>\n",
       "      <th>info</th>\n",
       "      <th>sector</th>\n",
       "      <th>value</th>\n",
       "      <th>year</th>\n",
       "    </tr>\n",
       "  </thead>\n",
       "  <tbody>\n",
       "    <tr>\n",
       "      <th>6</th>\n",
       "      <td>Austria</td>\n",
       "      <td>AT</td>\n",
       "      <td>1.1.1 Free allocation to existing entities (Ar...</td>\n",
       "      <td>32 Manufacture of ceramics</td>\n",
       "      <td>481340.0</td>\n",
       "      <td>2011</td>\n",
       "    </tr>\n",
       "    <tr>\n",
       "      <th>7</th>\n",
       "      <td>Austria</td>\n",
       "      <td>AT</td>\n",
       "      <td>1.1.1 Free allocation to existing entities (Ar...</td>\n",
       "      <td>32 Manufacture of ceramics</td>\n",
       "      <td>478462.0</td>\n",
       "      <td>2012</td>\n",
       "    </tr>\n",
       "    <tr>\n",
       "      <th>8</th>\n",
       "      <td>Austria</td>\n",
       "      <td>AT</td>\n",
       "      <td>1.1.2 Free allocation from the new entrants re...</td>\n",
       "      <td>32 Manufacture of ceramics</td>\n",
       "      <td>0.0</td>\n",
       "      <td>2017</td>\n",
       "    </tr>\n",
       "    <tr>\n",
       "      <th>9</th>\n",
       "      <td>Austria</td>\n",
       "      <td>AT</td>\n",
       "      <td>1.1.2 Free allocation from the new entrants re...</td>\n",
       "      <td>32 Manufacture of ceramics</td>\n",
       "      <td>0.0</td>\n",
       "      <td>2018</td>\n",
       "    </tr>\n",
       "    <tr>\n",
       "      <th>10</th>\n",
       "      <td>Austria</td>\n",
       "      <td>AT</td>\n",
       "      <td>1.1.2 Free allocation from the new entrants re...</td>\n",
       "      <td>32 Manufacture of ceramics</td>\n",
       "      <td>0.0</td>\n",
       "      <td>2021</td>\n",
       "    </tr>\n",
       "    <tr>\n",
       "      <th>...</th>\n",
       "      <td>...</td>\n",
       "      <td>...</td>\n",
       "      <td>...</td>\n",
       "      <td>...</td>\n",
       "      <td>...</td>\n",
       "      <td>...</td>\n",
       "    </tr>\n",
       "    <tr>\n",
       "      <th>74915</th>\n",
       "      <td>Slovenia</td>\n",
       "      <td>SI</td>\n",
       "      <td>2.1 EU-ETS Verified Emission</td>\n",
       "      <td>24  Production of pig iron or steel</td>\n",
       "      <td>217488.0</td>\n",
       "      <td>2016</td>\n",
       "    </tr>\n",
       "    <tr>\n",
       "      <th>74916</th>\n",
       "      <td>Slovenia</td>\n",
       "      <td>SI</td>\n",
       "      <td>2.1 EU-ETS Verified Emission</td>\n",
       "      <td>24  Production of pig iron or steel</td>\n",
       "      <td>222518.0</td>\n",
       "      <td>2019</td>\n",
       "    </tr>\n",
       "    <tr>\n",
       "      <th>74919</th>\n",
       "      <td>Slovenia</td>\n",
       "      <td>SI</td>\n",
       "      <td>4.2 Surrendered certified emission reductions ...</td>\n",
       "      <td>24  Production of pig iron or steel</td>\n",
       "      <td>0.0</td>\n",
       "      <td>2011</td>\n",
       "    </tr>\n",
       "    <tr>\n",
       "      <th>74920</th>\n",
       "      <td>Slovenia</td>\n",
       "      <td>SI</td>\n",
       "      <td>4.2 Surrendered certified emission reductions ...</td>\n",
       "      <td>24  Production of pig iron or steel</td>\n",
       "      <td>0.0</td>\n",
       "      <td>2012</td>\n",
       "    </tr>\n",
       "    <tr>\n",
       "      <th>74921</th>\n",
       "      <td>Slovenia</td>\n",
       "      <td>SI</td>\n",
       "      <td>4.3 Surrendered emission reduction units (ERUs)</td>\n",
       "      <td>24  Production of pig iron or steel</td>\n",
       "      <td>0.0</td>\n",
       "      <td>2007</td>\n",
       "    </tr>\n",
       "  </tbody>\n",
       "</table>\n",
       "<p>33054 rows × 6 columns</p>\n",
       "</div>"
      ],
      "text/plain": [
       "        country country_code  \\\n",
       "6       Austria           AT   \n",
       "7       Austria           AT   \n",
       "8       Austria           AT   \n",
       "9       Austria           AT   \n",
       "10      Austria           AT   \n",
       "...         ...          ...   \n",
       "74915  Slovenia           SI   \n",
       "74916  Slovenia           SI   \n",
       "74919  Slovenia           SI   \n",
       "74920  Slovenia           SI   \n",
       "74921  Slovenia           SI   \n",
       "\n",
       "                                                    info  \\\n",
       "6      1.1.1 Free allocation to existing entities (Ar...   \n",
       "7      1.1.1 Free allocation to existing entities (Ar...   \n",
       "8      1.1.2 Free allocation from the new entrants re...   \n",
       "9      1.1.2 Free allocation from the new entrants re...   \n",
       "10     1.1.2 Free allocation from the new entrants re...   \n",
       "...                                                  ...   \n",
       "74915                       2.1 EU-ETS Verified Emission   \n",
       "74916                       2.1 EU-ETS Verified Emission   \n",
       "74919  4.2 Surrendered certified emission reductions ...   \n",
       "74920  4.2 Surrendered certified emission reductions ...   \n",
       "74921    4.3 Surrendered emission reduction units (ERUs)   \n",
       "\n",
       "                                    sector     value  year  \n",
       "6               32 Manufacture of ceramics  481340.0  2011  \n",
       "7               32 Manufacture of ceramics  478462.0  2012  \n",
       "8               32 Manufacture of ceramics       0.0  2017  \n",
       "9               32 Manufacture of ceramics       0.0  2018  \n",
       "10              32 Manufacture of ceramics       0.0  2021  \n",
       "...                                    ...       ...   ...  \n",
       "74915  24  Production of pig iron or steel  217488.0  2016  \n",
       "74916  24  Production of pig iron or steel  222518.0  2019  \n",
       "74919  24  Production of pig iron or steel       0.0  2011  \n",
       "74920  24  Production of pig iron or steel       0.0  2012  \n",
       "74921  24  Production of pig iron or steel       0.0  2007  \n",
       "\n",
       "[33054 rows x 6 columns]"
      ]
     },
     "execution_count": 146,
     "metadata": {},
     "output_type": "execute_result"
    }
   ],
   "source": [
    "hist_em = ets.copy()\n",
    "hist_em"
   ]
  },
  {
   "cell_type": "code",
   "execution_count": 160,
   "metadata": {},
   "outputs": [
    {
     "data": {
      "text/plain": [
       "25447358895.0"
      ]
     },
     "execution_count": 160,
     "metadata": {},
     "output_type": "execute_result"
    }
   ],
   "source": [
    "np.sum([np.sum(hist_em.loc[hist_em['sector'].str.contains(str(sec))]['value']) for sec in range(21,100)])"
   ]
  },
  {
   "cell_type": "code",
   "execution_count": 161,
   "metadata": {},
   "outputs": [
    {
     "name": "stderr",
     "output_type": "stream",
     "text": [
      "C:\\Users\\alast\\AppData\\Local\\Temp\\ipykernel_1064\\2281685874.py:2: FutureWarning: The default value of numeric_only in DataFrameGroupBy.sum is deprecated. In a future version, numeric_only will default to False. Either specify numeric_only or select only columns which should be valid for the function.\n",
      "  hist_em = grouped.apply('sum')\n"
     ]
    }
   ],
   "source": [
    "grouped = hist_em.groupby(by=['year', 'sector'])\n",
    "hist_em = grouped.apply('sum')"
   ]
  },
  {
   "cell_type": "code",
   "execution_count": 174,
   "metadata": {},
   "outputs": [
    {
     "data": {
      "text/plain": [
       "MultiIndex([('2005',                                       '10 Aviation'),\n",
       "            ('2005',                            '20 Combustion of fuels'),\n",
       "            ('2005',                       '21  Refining of mineral oil'),\n",
       "            ('2005',                            '22  Production of coke'),\n",
       "            ('2005',                '23 Metal ore roasting or sintering'),\n",
       "            ('2005',               '24  Production of pig iron or steel'),\n",
       "            ('2005',     '25 Production or processing of ferrous metals'),\n",
       "            ('2005',                '26 Production of primary aluminium'),\n",
       "            ('2005',              '27 Production of secondary aluminium'),\n",
       "            ('2005', '28 Production or processing of non-ferrous metals'),\n",
       "            ...\n",
       "            ('2022',                             '35 Production of pulp'),\n",
       "            ('2022',               '36 Production of paper or cardboard'),\n",
       "            ('2022',                     '37 Production of carbon black'),\n",
       "            ('2022',                      '38 Production of nitric acid'),\n",
       "            ('2022',                      '39 Production of adipic acid'),\n",
       "            ('2022',                          '41 Production of ammonia'),\n",
       "            ('2022',                   '42 Production of bulk chemicals'),\n",
       "            ('2022',       '43 Production of hydrogen and synthesis gas'),\n",
       "            ('2022',  '44 Production of soda ash and sodium bicarbonate'),\n",
       "            ('2022',          '99 Other activity opted-in under Art. 24')],\n",
       "           names=['year', 'sector'], length=501)"
      ]
     },
     "execution_count": 174,
     "metadata": {},
     "output_type": "execute_result"
    }
   ],
   "source": [
    "hist_em.index"
   ]
  },
  {
   "cell_type": "code",
   "execution_count": 184,
   "metadata": {},
   "outputs": [
    {
     "data": {
      "text/plain": [
       "<matplotlib.legend.Legend at 0x1ec4551cb20>"
      ]
     },
     "execution_count": 184,
     "metadata": {},
     "output_type": "execute_result"
    },
    {
     "data": {
      "image/png": "[encoded data removed]",
      "text/plain": [
       "<Figure size 1000x1000 with 1 Axes>"
      ]
     },
     "metadata": {},
     "output_type": "display_data"
    }
   ],
   "source": [
    "fig, ax = plt.subplots(figsize=(10,10))\n",
    "for sector, group in hist_em.groupby('sector'):\n",
    "    group.plot(y='value', ax=ax, label=sector)\n",
    "\n",
    "ax.legend(labels=[''])"
   ]
  },
  {
   "cell_type": "code",
   "execution_count": null,
   "metadata": {},
   "outputs": [],
   "source": []
  }
 ],
 "metadata": {
  "kernelspec": {
   "display_name": "base",
   "language": "python",
   "name": "python3"
  },
  "language_info": {
   "codemirror_mode": {
    "name": "ipython",
    "version": 3
   },
   "file_extension": ".py",
   "mimetype": "text/x-python",
   "name": "python",
   "nbconvert_exporter": "python",
   "pygments_lexer": "ipython3",
   "version": "3.9.16"
  },
  "orig_nbformat": 4
 },
 "nbformat": 4,
 "nbformat_minor": 2
}
